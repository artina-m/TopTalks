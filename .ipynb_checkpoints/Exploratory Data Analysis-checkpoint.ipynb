{
 "cells": [
  {
   "cell_type": "markdown",
   "metadata": {},
   "source": [
    "# Exploratory Data Analysis"
   ]
  },
  {
   "cell_type": "code",
   "execution_count": 43,
   "metadata": {
    "collapsed": false
   },
   "outputs": [],
   "source": [
    "import matplotlib.pyplot as plt\n",
    "%matplotlib inline\n",
    "import numpy as np\n",
    "import pandas as pd\n",
    "import seaborn as sns\n",
    "from sklearn.preprocessing import normalize, scale"
   ]
  },
  {
   "cell_type": "markdown",
   "metadata": {},
   "source": [
    "<hr>"
   ]
  },
  {
   "cell_type": "code",
   "execution_count": 59,
   "metadata": {
    "collapsed": false
   },
   "outputs": [
    {
     "data": {
      "text/html": [
       "<div>\n",
       "<style>\n",
       "    .dataframe thead tr:only-child th {\n",
       "        text-align: right;\n",
       "    }\n",
       "\n",
       "    .dataframe thead th {\n",
       "        text-align: left;\n",
       "    }\n",
       "\n",
       "    .dataframe tbody tr th {\n",
       "        vertical-align: top;\n",
       "    }\n",
       "</style>\n",
       "<table border=\"1\" class=\"dataframe\">\n",
       "  <thead>\n",
       "    <tr style=\"text-align: right;\">\n",
       "      <th></th>\n",
       "      <th>comments</th>\n",
       "      <th>description</th>\n",
       "      <th>duration</th>\n",
       "      <th>event</th>\n",
       "      <th>film_date</th>\n",
       "      <th>languages</th>\n",
       "      <th>main_speaker</th>\n",
       "      <th>name</th>\n",
       "      <th>num_speaker</th>\n",
       "      <th>published_date</th>\n",
       "      <th>ratings</th>\n",
       "      <th>related_talks</th>\n",
       "      <th>speaker_occupation</th>\n",
       "      <th>tags</th>\n",
       "      <th>title</th>\n",
       "      <th>url</th>\n",
       "      <th>views</th>\n",
       "    </tr>\n",
       "  </thead>\n",
       "  <tbody>\n",
       "    <tr>\n",
       "      <th>0</th>\n",
       "      <td>4553</td>\n",
       "      <td>Sir Ken Robinson makes an entertaining and pro...</td>\n",
       "      <td>1164</td>\n",
       "      <td>TED2006</td>\n",
       "      <td>1140825600</td>\n",
       "      <td>60</td>\n",
       "      <td>Ken Robinson</td>\n",
       "      <td>Ken Robinson: Do schools kill creativity?</td>\n",
       "      <td>1</td>\n",
       "      <td>1151367060</td>\n",
       "      <td>[{'id': 7, 'name': 'Funny', 'count': 19645}, {...</td>\n",
       "      <td>[{'id': 865, 'hero': 'https://pe.tedcdn.com/im...</td>\n",
       "      <td>Author/educator</td>\n",
       "      <td>['children', 'creativity', 'culture', 'dance',...</td>\n",
       "      <td>Do schools kill creativity?</td>\n",
       "      <td>https://www.ted.com/talks/ken_robinson_says_sc...</td>\n",
       "      <td>47227110</td>\n",
       "    </tr>\n",
       "    <tr>\n",
       "      <th>1</th>\n",
       "      <td>265</td>\n",
       "      <td>With the same humor and humanity he exuded in ...</td>\n",
       "      <td>977</td>\n",
       "      <td>TED2006</td>\n",
       "      <td>1140825600</td>\n",
       "      <td>43</td>\n",
       "      <td>Al Gore</td>\n",
       "      <td>Al Gore: Averting the climate crisis</td>\n",
       "      <td>1</td>\n",
       "      <td>1151367060</td>\n",
       "      <td>[{'id': 7, 'name': 'Funny', 'count': 544}, {'i...</td>\n",
       "      <td>[{'id': 243, 'hero': 'https://pe.tedcdn.com/im...</td>\n",
       "      <td>Climate advocate</td>\n",
       "      <td>['alternative energy', 'cars', 'climate change...</td>\n",
       "      <td>Averting the climate crisis</td>\n",
       "      <td>https://www.ted.com/talks/al_gore_on_averting_...</td>\n",
       "      <td>3200520</td>\n",
       "    </tr>\n",
       "    <tr>\n",
       "      <th>2</th>\n",
       "      <td>124</td>\n",
       "      <td>New York Times columnist David Pogue takes aim...</td>\n",
       "      <td>1286</td>\n",
       "      <td>TED2006</td>\n",
       "      <td>1140739200</td>\n",
       "      <td>26</td>\n",
       "      <td>David Pogue</td>\n",
       "      <td>David Pogue: Simplicity sells</td>\n",
       "      <td>1</td>\n",
       "      <td>1151367060</td>\n",
       "      <td>[{'id': 7, 'name': 'Funny', 'count': 964}, {'i...</td>\n",
       "      <td>[{'id': 1725, 'hero': 'https://pe.tedcdn.com/i...</td>\n",
       "      <td>Technology columnist</td>\n",
       "      <td>['computers', 'entertainment', 'interface desi...</td>\n",
       "      <td>Simplicity sells</td>\n",
       "      <td>https://www.ted.com/talks/david_pogue_says_sim...</td>\n",
       "      <td>1636292</td>\n",
       "    </tr>\n",
       "    <tr>\n",
       "      <th>3</th>\n",
       "      <td>200</td>\n",
       "      <td>In an emotionally charged talk, MacArthur-winn...</td>\n",
       "      <td>1116</td>\n",
       "      <td>TED2006</td>\n",
       "      <td>1140912000</td>\n",
       "      <td>35</td>\n",
       "      <td>Majora Carter</td>\n",
       "      <td>Majora Carter: Greening the ghetto</td>\n",
       "      <td>1</td>\n",
       "      <td>1151367060</td>\n",
       "      <td>[{'id': 3, 'name': 'Courageous', 'count': 760}...</td>\n",
       "      <td>[{'id': 1041, 'hero': 'https://pe.tedcdn.com/i...</td>\n",
       "      <td>Activist for environmental justice</td>\n",
       "      <td>['MacArthur grant', 'activism', 'business', 'c...</td>\n",
       "      <td>Greening the ghetto</td>\n",
       "      <td>https://www.ted.com/talks/majora_carter_s_tale...</td>\n",
       "      <td>1697550</td>\n",
       "    </tr>\n",
       "    <tr>\n",
       "      <th>4</th>\n",
       "      <td>593</td>\n",
       "      <td>You've never seen data presented like this. Wi...</td>\n",
       "      <td>1190</td>\n",
       "      <td>TED2006</td>\n",
       "      <td>1140566400</td>\n",
       "      <td>48</td>\n",
       "      <td>Hans Rosling</td>\n",
       "      <td>Hans Rosling: The best stats you've ever seen</td>\n",
       "      <td>1</td>\n",
       "      <td>1151440680</td>\n",
       "      <td>[{'id': 9, 'name': 'Ingenious', 'count': 3202}...</td>\n",
       "      <td>[{'id': 2056, 'hero': 'https://pe.tedcdn.com/i...</td>\n",
       "      <td>Global health expert; data visionary</td>\n",
       "      <td>['Africa', 'Asia', 'Google', 'demo', 'economic...</td>\n",
       "      <td>The best stats you've ever seen</td>\n",
       "      <td>https://www.ted.com/talks/hans_rosling_shows_t...</td>\n",
       "      <td>12005869</td>\n",
       "    </tr>\n",
       "  </tbody>\n",
       "</table>\n",
       "</div>"
      ],
      "text/plain": [
       "   comments                                        description  duration  \\\n",
       "0      4553  Sir Ken Robinson makes an entertaining and pro...      1164   \n",
       "1       265  With the same humor and humanity he exuded in ...       977   \n",
       "2       124  New York Times columnist David Pogue takes aim...      1286   \n",
       "3       200  In an emotionally charged talk, MacArthur-winn...      1116   \n",
       "4       593  You've never seen data presented like this. Wi...      1190   \n",
       "\n",
       "     event   film_date  languages   main_speaker  \\\n",
       "0  TED2006  1140825600         60   Ken Robinson   \n",
       "1  TED2006  1140825600         43        Al Gore   \n",
       "2  TED2006  1140739200         26    David Pogue   \n",
       "3  TED2006  1140912000         35  Majora Carter   \n",
       "4  TED2006  1140566400         48   Hans Rosling   \n",
       "\n",
       "                                            name  num_speaker  published_date  \\\n",
       "0      Ken Robinson: Do schools kill creativity?            1      1151367060   \n",
       "1           Al Gore: Averting the climate crisis            1      1151367060   \n",
       "2                  David Pogue: Simplicity sells            1      1151367060   \n",
       "3             Majora Carter: Greening the ghetto            1      1151367060   \n",
       "4  Hans Rosling: The best stats you've ever seen            1      1151440680   \n",
       "\n",
       "                                             ratings  \\\n",
       "0  [{'id': 7, 'name': 'Funny', 'count': 19645}, {...   \n",
       "1  [{'id': 7, 'name': 'Funny', 'count': 544}, {'i...   \n",
       "2  [{'id': 7, 'name': 'Funny', 'count': 964}, {'i...   \n",
       "3  [{'id': 3, 'name': 'Courageous', 'count': 760}...   \n",
       "4  [{'id': 9, 'name': 'Ingenious', 'count': 3202}...   \n",
       "\n",
       "                                       related_talks  \\\n",
       "0  [{'id': 865, 'hero': 'https://pe.tedcdn.com/im...   \n",
       "1  [{'id': 243, 'hero': 'https://pe.tedcdn.com/im...   \n",
       "2  [{'id': 1725, 'hero': 'https://pe.tedcdn.com/i...   \n",
       "3  [{'id': 1041, 'hero': 'https://pe.tedcdn.com/i...   \n",
       "4  [{'id': 2056, 'hero': 'https://pe.tedcdn.com/i...   \n",
       "\n",
       "                     speaker_occupation  \\\n",
       "0                       Author/educator   \n",
       "1                      Climate advocate   \n",
       "2                  Technology columnist   \n",
       "3    Activist for environmental justice   \n",
       "4  Global health expert; data visionary   \n",
       "\n",
       "                                                tags  \\\n",
       "0  ['children', 'creativity', 'culture', 'dance',...   \n",
       "1  ['alternative energy', 'cars', 'climate change...   \n",
       "2  ['computers', 'entertainment', 'interface desi...   \n",
       "3  ['MacArthur grant', 'activism', 'business', 'c...   \n",
       "4  ['Africa', 'Asia', 'Google', 'demo', 'economic...   \n",
       "\n",
       "                             title  \\\n",
       "0      Do schools kill creativity?   \n",
       "1      Averting the climate crisis   \n",
       "2                 Simplicity sells   \n",
       "3              Greening the ghetto   \n",
       "4  The best stats you've ever seen   \n",
       "\n",
       "                                                 url     views  \n",
       "0  https://www.ted.com/talks/ken_robinson_says_sc...  47227110  \n",
       "1  https://www.ted.com/talks/al_gore_on_averting_...   3200520  \n",
       "2  https://www.ted.com/talks/david_pogue_says_sim...   1636292  \n",
       "3  https://www.ted.com/talks/majora_carter_s_tale...   1697550  \n",
       "4  https://www.ted.com/talks/hans_rosling_shows_t...  12005869  "
      ]
     },
     "execution_count": 59,
     "metadata": {},
     "output_type": "execute_result"
    }
   ],
   "source": [
    "# Import data\n",
    "talks = pd.read_csv(\"ted_main.csv\")\n",
    "talks.head()"
   ]
  },
  {
   "cell_type": "code",
   "execution_count": 60,
   "metadata": {
    "collapsed": false
   },
   "outputs": [
    {
     "data": {
      "text/plain": [
       "comments              False\n",
       "description           False\n",
       "duration              False\n",
       "event                 False\n",
       "film_date             False\n",
       "languages             False\n",
       "main_speaker          False\n",
       "name                  False\n",
       "num_speaker           False\n",
       "published_date        False\n",
       "ratings               False\n",
       "related_talks         False\n",
       "speaker_occupation     True\n",
       "tags                  False\n",
       "title                 False\n",
       "url                   False\n",
       "views                 False\n",
       "dtype: bool"
      ]
     },
     "execution_count": 60,
     "metadata": {},
     "output_type": "execute_result"
    }
   ],
   "source": [
    "talks.isnull().any() # Check for null values, resuts: speaker_occupation"
   ]
  },
  {
   "cell_type": "markdown",
   "metadata": {},
   "source": [
    "** Note: Dropping \"URL\" and \"Speaker_occupation\" from the dataset **"
   ]
  },
  {
   "cell_type": "code",
   "execution_count": 61,
   "metadata": {
    "collapsed": false
   },
   "outputs": [],
   "source": [
    "talks = talks.drop([\"url\", \"speaker_occupation\"], axis = 1)"
   ]
  },
  {
   "cell_type": "markdown",
   "metadata": {},
   "source": [
    "**Add the following new columns**\n",
    "- Length of Ted Talk title\n",
    "- Total number of tags\n",
    "- Length of description \n",
    "- Positive Ratings: 'Funny','Beautiful','Ingenious','Courageous','Inspiring','Jaw-dropping','Fascinating'\n",
    "- Moderate Ratings: 'Informative','OK','Persuasive'\n",
    "- Negative Ratings: 'Longwinded','Unconvincing','Obnoxious','Confusing'\n",
    "- Event type"
   ]
  },
  {
   "cell_type": "code",
   "execution_count": 63,
   "metadata": {
    "collapsed": false
   },
   "outputs": [],
   "source": [
    "tl = [] # Title Length\n",
    "for t in talks[\"title\"]: tl.append(len(t))\n",
    "talks[\"titleLength\"] = tl\n",
    "\n",
    "nt = [] # Number of tags\n",
    "for n in talks[\"tags\"]:\n",
    "    n = eval(n)\n",
    "    nt.append(len(n))\n",
    "talks[\"numTags\"] = nt\n",
    "\n",
    "d = [] # Length of description\n",
    "for s in talks[\"description\"]:d.append(len(s))\n",
    "talks[\"descLength\"] = d"
   ]
  },
  {
   "cell_type": "code",
   "execution_count": 64,
   "metadata": {
    "collapsed": false
   },
   "outputs": [],
   "source": [
    "# All the ratings\n",
    "ratings = ['Funny', 'Beautiful', 'Ingenious', 'Courageous', 'Longwinded', 'Confusing',\n",
    "           'Informative', 'Fascinating', 'Unconvincing', 'Persuasive', 'Jaw-dropping', 'OK',\n",
    "           'Obnoxious', 'Inspiring']\n",
    "\n",
    "rate = []\n",
    "#For this function (x) denotes the rating of interest\n",
    "def parse(x):\n",
    "    #Loop over all talks in dataframe\n",
    "    for ll in range(len(talks)):\n",
    "        #First we split on the rating of interest and subsequent splits work to isolate the rating counts\n",
    "        splitting = talks['ratings'][ll].split(x)\n",
    "        splitting2 = splitting[1].split(':')\n",
    "        splitting3 = splitting2[1].split(\" \")\n",
    "        splitting4 = splitting3[1].split(\"}\")\n",
    "        #Isolate number of ratings\n",
    "        rate.append(splitting4[0])\n",
    "        series = pd.Series(rate)\n",
    "        #Create column in dataframe for rating\n",
    "        talks[x] = series\n",
    "        \n",
    "for rating in ratings:\n",
    "    parse(rating)\n",
    "    rate.clear()"
   ]
  },
  {
   "cell_type": "code",
   "execution_count": 65,
   "metadata": {
    "collapsed": false
   },
   "outputs": [],
   "source": [
    "talks[ratings] = talks[ratings].astype(int)"
   ]
  },
  {
   "cell_type": "code",
   "execution_count": 66,
   "metadata": {
    "collapsed": true
   },
   "outputs": [],
   "source": [
    "#Categorize the ratings into the three broad categories\n",
    "positive = ['Funny','Beautiful','Ingenious','Courageous','Inspiring','Jaw-dropping','Fascinating']\n",
    "negative = ['Longwinded','Unconvincing','Obnoxious','Confusing']\n",
    "moderate = ['Informative','OK','Persuasive']"
   ]
  },
  {
   "cell_type": "code",
   "execution_count": 67,
   "metadata": {
    "collapsed": false
   },
   "outputs": [],
   "source": [
    "talks['Positive'] = talks['Funny'] + talks['Beautiful'] + talks['Ingenious'] + talks['Courageous'] + talks['Inspiring'] + talks['Jaw-dropping'] + talks['Fascinating']\n",
    "talks['Moderate'] = talks['OK'] + talks[\"Informative\"] + talks[\"Persuasive\"]\n",
    "talks['Negative'] = talks['Longwinded'] + talks['Unconvincing'] + talks['Obnoxious'] + talks['Confusing']"
   ]
  },
  {
   "cell_type": "code",
   "execution_count": 68,
   "metadata": {
    "collapsed": false
   },
   "outputs": [
    {
     "data": {
      "text/html": [
       "<div>\n",
       "<style>\n",
       "    .dataframe thead tr:only-child th {\n",
       "        text-align: right;\n",
       "    }\n",
       "\n",
       "    .dataframe thead th {\n",
       "        text-align: left;\n",
       "    }\n",
       "\n",
       "    .dataframe tbody tr th {\n",
       "        vertical-align: top;\n",
       "    }\n",
       "</style>\n",
       "<table border=\"1\" class=\"dataframe\">\n",
       "  <thead>\n",
       "    <tr style=\"text-align: right;\">\n",
       "      <th></th>\n",
       "      <th>Positive</th>\n",
       "      <th>Moderate</th>\n",
       "      <th>Negative</th>\n",
       "    </tr>\n",
       "  </thead>\n",
       "  <tbody>\n",
       "    <tr>\n",
       "      <th>0</th>\n",
       "      <td>73488</td>\n",
       "      <td>19224</td>\n",
       "      <td>1138</td>\n",
       "    </tr>\n",
       "    <tr>\n",
       "      <th>1</th>\n",
       "      <td>1458</td>\n",
       "      <td>914</td>\n",
       "      <td>564</td>\n",
       "    </tr>\n",
       "    <tr>\n",
       "      <th>2</th>\n",
       "      <td>1702</td>\n",
       "      <td>771</td>\n",
       "      <td>351</td>\n",
       "    </tr>\n",
       "    <tr>\n",
       "      <th>3</th>\n",
       "      <td>2647</td>\n",
       "      <td>925</td>\n",
       "      <td>156</td>\n",
       "    </tr>\n",
       "    <tr>\n",
       "      <th>4</th>\n",
       "      <td>17087</td>\n",
       "      <td>8223</td>\n",
       "      <td>310</td>\n",
       "    </tr>\n",
       "  </tbody>\n",
       "</table>\n",
       "</div>"
      ],
      "text/plain": [
       "   Positive  Moderate  Negative\n",
       "0     73488     19224      1138\n",
       "1      1458       914       564\n",
       "2      1702       771       351\n",
       "3      2647       925       156\n",
       "4     17087      8223       310"
      ]
     },
     "execution_count": 68,
     "metadata": {},
     "output_type": "execute_result"
    }
   ],
   "source": [
    "talks[['Positive','Moderate','Negative']].head()"
   ]
  },
  {
   "cell_type": "code",
   "execution_count": 69,
   "metadata": {
    "collapsed": false
   },
   "outputs": [
    {
     "data": {
      "text/html": [
       "<div>\n",
       "<style>\n",
       "    .dataframe thead tr:only-child th {\n",
       "        text-align: right;\n",
       "    }\n",
       "\n",
       "    .dataframe thead th {\n",
       "        text-align: left;\n",
       "    }\n",
       "\n",
       "    .dataframe tbody tr th {\n",
       "        vertical-align: top;\n",
       "    }\n",
       "</style>\n",
       "<table border=\"1\" class=\"dataframe\">\n",
       "  <thead>\n",
       "    <tr style=\"text-align: right;\">\n",
       "      <th></th>\n",
       "      <th>Positive</th>\n",
       "      <th>Moderate</th>\n",
       "      <th>Negative</th>\n",
       "    </tr>\n",
       "  </thead>\n",
       "  <tbody>\n",
       "    <tr>\n",
       "      <th>count</th>\n",
       "      <td>2550.000000</td>\n",
       "      <td>2550.000000</td>\n",
       "      <td>2550.000000</td>\n",
       "    </tr>\n",
       "    <tr>\n",
       "      <th>mean</th>\n",
       "      <td>1654.662353</td>\n",
       "      <td>649.337647</td>\n",
       "      <td>132.408235</td>\n",
       "    </tr>\n",
       "    <tr>\n",
       "      <th>std</th>\n",
       "      <td>3320.792741</td>\n",
       "      <td>1013.887279</td>\n",
       "      <td>186.863786</td>\n",
       "    </tr>\n",
       "    <tr>\n",
       "      <th>min</th>\n",
       "      <td>37.000000</td>\n",
       "      <td>4.000000</td>\n",
       "      <td>0.000000</td>\n",
       "    </tr>\n",
       "    <tr>\n",
       "      <th>25%</th>\n",
       "      <td>468.000000</td>\n",
       "      <td>213.250000</td>\n",
       "      <td>39.000000</td>\n",
       "    </tr>\n",
       "    <tr>\n",
       "      <th>50%</th>\n",
       "      <td>876.000000</td>\n",
       "      <td>386.000000</td>\n",
       "      <td>77.000000</td>\n",
       "    </tr>\n",
       "    <tr>\n",
       "      <th>75%</th>\n",
       "      <td>1690.000000</td>\n",
       "      <td>720.750000</td>\n",
       "      <td>157.000000</td>\n",
       "    </tr>\n",
       "    <tr>\n",
       "      <th>max</th>\n",
       "      <td>73488.000000</td>\n",
       "      <td>19224.000000</td>\n",
       "      <td>3777.000000</td>\n",
       "    </tr>\n",
       "  </tbody>\n",
       "</table>\n",
       "</div>"
      ],
      "text/plain": [
       "           Positive      Moderate     Negative\n",
       "count   2550.000000   2550.000000  2550.000000\n",
       "mean    1654.662353    649.337647   132.408235\n",
       "std     3320.792741   1013.887279   186.863786\n",
       "min       37.000000      4.000000     0.000000\n",
       "25%      468.000000    213.250000    39.000000\n",
       "50%      876.000000    386.000000    77.000000\n",
       "75%     1690.000000    720.750000   157.000000\n",
       "max    73488.000000  19224.000000  3777.000000"
      ]
     },
     "execution_count": 69,
     "metadata": {},
     "output_type": "execute_result"
    }
   ],
   "source": [
    "talks[['Positive','Moderate','Negative']].describe()"
   ]
  },
  {
   "cell_type": "markdown",
   "metadata": {},
   "source": [
    "** Event Type ** <br>\n",
    "Can help determine if a TED talk is more likely to be viewed if they are given\n",
    "at a bigger event/convention. There are a lot of different events (355) therefore \n",
    "we will condense the data into broader categories\n",
    "- Year TED Conference: Main event, 5 day annual conference\n",
    "- TEDx: Independent/locally hosted TED events\n",
    "- TEDGlobal: Annual 5 day conference\n",
    "- TEDWoman: 3 day conference\n",
    "- TEDSalon: Small weekly/monthly events\n",
    "- TEDNYC: Hosted in NYC\n",
    "- Other\n",
    "    "
   ]
  },
  {
   "cell_type": "code",
   "execution_count": 72,
   "metadata": {
    "collapsed": false
   },
   "outputs": [
    {
     "data": {
      "text/plain": [
       "355"
      ]
     },
     "execution_count": 72,
     "metadata": {},
     "output_type": "execute_result"
    }
   ],
   "source": [
    "# Event type\n",
    "len(talks['event'].unique())"
   ]
  },
  {
   "cell_type": "code",
   "execution_count": 74,
   "metadata": {
    "collapsed": false
   },
   "outputs": [
    {
     "name": "stderr",
     "output_type": "stream",
     "text": [
      "/Library/Frameworks/Python.framework/Versions/3.4/lib/python3.4/site-packages/ipykernel/__main__.py:5: SettingWithCopyWarning: \n",
      "A value is trying to be set on a copy of a slice from a DataFrame\n",
      "\n",
      "See the caveats in the documentation: http://pandas.pydata.org/pandas-docs/stable/indexing.html#indexing-view-versus-copy\n",
      "/Library/Frameworks/Python.framework/Versions/3.4/lib/python3.4/site-packages/ipykernel/__main__.py:11: SettingWithCopyWarning: \n",
      "A value is trying to be set on a copy of a slice from a DataFrame\n",
      "\n",
      "See the caveats in the documentation: http://pandas.pydata.org/pandas-docs/stable/indexing.html#indexing-view-versus-copy\n",
      "/Library/Frameworks/Python.framework/Versions/3.4/lib/python3.4/site-packages/ipykernel/__main__.py:15: SettingWithCopyWarning: \n",
      "A value is trying to be set on a copy of a slice from a DataFrame\n",
      "\n",
      "See the caveats in the documentation: http://pandas.pydata.org/pandas-docs/stable/indexing.html#indexing-view-versus-copy\n",
      "/Library/Frameworks/Python.framework/Versions/3.4/lib/python3.4/site-packages/ipykernel/__main__.py:7: SettingWithCopyWarning: \n",
      "A value is trying to be set on a copy of a slice from a DataFrame\n",
      "\n",
      "See the caveats in the documentation: http://pandas.pydata.org/pandas-docs/stable/indexing.html#indexing-view-versus-copy\n",
      "/Library/Frameworks/Python.framework/Versions/3.4/lib/python3.4/site-packages/ipykernel/__main__.py:9: SettingWithCopyWarning: \n",
      "A value is trying to be set on a copy of a slice from a DataFrame\n",
      "\n",
      "See the caveats in the documentation: http://pandas.pydata.org/pandas-docs/stable/indexing.html#indexing-view-versus-copy\n",
      "/Library/Frameworks/Python.framework/Versions/3.4/lib/python3.4/site-packages/ipykernel/__main__.py:13: SettingWithCopyWarning: \n",
      "A value is trying to be set on a copy of a slice from a DataFrame\n",
      "\n",
      "See the caveats in the documentation: http://pandas.pydata.org/pandas-docs/stable/indexing.html#indexing-view-versus-copy\n",
      "/Library/Frameworks/Python.framework/Versions/3.4/lib/python3.4/site-packages/ipykernel/__main__.py:17: SettingWithCopyWarning: \n",
      "A value is trying to be set on a copy of a slice from a DataFrame\n",
      "\n",
      "See the caveats in the documentation: http://pandas.pydata.org/pandas-docs/stable/indexing.html#indexing-view-versus-copy\n"
     ]
    }
   ],
   "source": [
    "talks[\"event_class\"] = \"Other\"\n",
    "#Loop over every talk and assign event category based on name of event\n",
    "for ii in range(len(talks)):\n",
    "    if talks['event'][ii].count('TED20') >0:\n",
    "        talks['event_class'][ii] = 'Yearly TED Conference'\n",
    "    elif talks['event'][ii].count('TED19') >0:\n",
    "        talks['event_class'][ii] = 'Yearly TED Conference'\n",
    "    elif talks['event'][ii].count('TEDx') >0:\n",
    "        talks['event_class'][ii] = 'TEDx'\n",
    "    elif talks['event'][ii].count('TEDGlobal') >0:\n",
    "        talks['event_class'][ii] = 'TEDGlobal'\n",
    "    elif talks['event'][ii].count('TEDWomen') >0:\n",
    "        talks['event_class'][ii] = 'TEDWomen'\n",
    "    if talks['event'][ii].count('TEDSalon') >0:\n",
    "        talks['event_class'][ii] = 'TEDSalon'\n",
    "    if talks['event'][ii].count('TEDNYC') >0:\n",
    "        talks['event_class'][ii] = 'TEDNYC'\n",
    "    else:\n",
    "        pass;"
   ]
  },
  {
   "cell_type": "code",
   "execution_count": 76,
   "metadata": {
    "collapsed": false
   },
   "outputs": [
    {
     "data": {
      "text/plain": [
       "array(['Yearly TED Conference', 'TEDGlobal', 'TEDSalon', 'Other', 'TEDx',\n",
       "       'TEDWomen', 'TEDNYC'], dtype=object)"
      ]
     },
     "execution_count": 76,
     "metadata": {},
     "output_type": "execute_result"
    }
   ],
   "source": [
    "talks['event_class'].unique()"
   ]
  },
  {
   "cell_type": "code",
   "execution_count": 77,
   "metadata": {
    "collapsed": false
   },
   "outputs": [
    {
     "data": {
      "text/plain": [
       "0    Yearly TED Conference\n",
       "1    Yearly TED Conference\n",
       "2    Yearly TED Conference\n",
       "3    Yearly TED Conference\n",
       "4    Yearly TED Conference\n",
       "Name: event_class, dtype: object"
      ]
     },
     "execution_count": 77,
     "metadata": {},
     "output_type": "execute_result"
    }
   ],
   "source": [
    "talks[\"event_class\"].head()"
   ]
  },
  {
   "cell_type": "code",
   "execution_count": 25,
   "metadata": {
    "collapsed": true
   },
   "outputs": [],
   "source": [
    "# Split data into different \"popularity ranks\"\n",
    "rank1 = talks[talks[\"views\"] > 10000000]  # 10 million views plus\n",
    "rank2 = talks[(talks[\"views\"] <= 10000000) & (talks[\"views\"] > 500000)]  # 5mill - 10mil\n",
    "rank3 = talks[(talks[\"views\"] <= 500000) & (talks[\"views\"] > 100000)]  # 1mill - 5mil\n",
    "rank4 = talks[(talks[\"views\"] <= 100000) ]  # Under 1 mil\n",
    "\n",
    "ranked = [rank1, rank2, rank3, rank4]"
   ]
  },
  {
   "cell_type": "code",
   "execution_count": null,
   "metadata": {
    "collapsed": true
   },
   "outputs": [],
   "source": []
  },
  {
   "cell_type": "code",
   "execution_count": 26,
   "metadata": {
    "collapsed": false
   },
   "outputs": [
    {
     "data": {
      "text/plain": [
       "34"
      ]
     },
     "execution_count": 26,
     "metadata": {},
     "output_type": "execute_result"
    }
   ],
   "source": [
    "len(rank1)"
   ]
  },
  {
   "cell_type": "code",
   "execution_count": 27,
   "metadata": {
    "collapsed": false
   },
   "outputs": [
    {
     "data": {
      "text/plain": [
       "2237"
      ]
     },
     "execution_count": 27,
     "metadata": {},
     "output_type": "execute_result"
    }
   ],
   "source": [
    "len(rank2)"
   ]
  },
  {
   "cell_type": "code",
   "execution_count": 29,
   "metadata": {
    "collapsed": false
   },
   "outputs": [
    {
     "data": {
      "text/plain": [
       "276"
      ]
     },
     "execution_count": 29,
     "metadata": {},
     "output_type": "execute_result"
    }
   ],
   "source": [
    "len(rank3)"
   ]
  },
  {
   "cell_type": "code",
   "execution_count": 30,
   "metadata": {
    "collapsed": false
   },
   "outputs": [
    {
     "data": {
      "text/plain": [
       "3"
      ]
     },
     "execution_count": 30,
     "metadata": {},
     "output_type": "execute_result"
    }
   ],
   "source": [
    "len(rank4)"
   ]
  },
  {
   "cell_type": "code",
   "execution_count": 128,
   "metadata": {
    "collapsed": false
   },
   "outputs": [
    {
     "data": {
      "text/html": [
       "<div>\n",
       "<style>\n",
       "    .dataframe thead tr:only-child th {\n",
       "        text-align: right;\n",
       "    }\n",
       "\n",
       "    .dataframe thead th {\n",
       "        text-align: left;\n",
       "    }\n",
       "\n",
       "    .dataframe tbody tr th {\n",
       "        vertical-align: top;\n",
       "    }\n",
       "</style>\n",
       "<table border=\"1\" class=\"dataframe\">\n",
       "  <thead>\n",
       "    <tr style=\"text-align: right;\">\n",
       "      <th></th>\n",
       "      <th>comments</th>\n",
       "      <th>description</th>\n",
       "      <th>duration</th>\n",
       "      <th>event</th>\n",
       "      <th>film_date</th>\n",
       "      <th>languages</th>\n",
       "      <th>main_speaker</th>\n",
       "      <th>name</th>\n",
       "      <th>num_speaker</th>\n",
       "      <th>published_date</th>\n",
       "      <th>ratings</th>\n",
       "      <th>related_talks</th>\n",
       "      <th>speaker_occupation</th>\n",
       "      <th>tags</th>\n",
       "      <th>title</th>\n",
       "      <th>views</th>\n",
       "      <th>titleLength</th>\n",
       "      <th>numTags</th>\n",
       "      <th>descLength</th>\n",
       "    </tr>\n",
       "  </thead>\n",
       "  <tbody>\n",
       "    <tr>\n",
       "      <th>11</th>\n",
       "      <td>55</td>\n",
       "      <td>Jehane Noujaim unveils her 2006 TED Prize wish...</td>\n",
       "      <td>1538</td>\n",
       "      <td>TED2006</td>\n",
       "      <td>1140912000</td>\n",
       "      <td>20</td>\n",
       "      <td>Jehane Noujaim</td>\n",
       "      <td>Jehane Noujaim: My wish: A global day of film</td>\n",
       "      <td>1</td>\n",
       "      <td>1153786260</td>\n",
       "      <td>[{'id': 1, 'name': 'Beautiful', 'count': 70}, ...</td>\n",
       "      <td>[{'id': 2228, 'hero': 'https://pe.tedcdn.com/i...</td>\n",
       "      <td>Filmmaker</td>\n",
       "      <td>['TED Prize', 'art', 'culture', 'entertainment...</td>\n",
       "      <td>My wish: A global day of film</td>\n",
       "      <td>387877</td>\n",
       "      <td>29</td>\n",
       "      <td>10</td>\n",
       "      <td>121</td>\n",
       "    </tr>\n",
       "    <tr>\n",
       "      <th>14</th>\n",
       "      <td>99</td>\n",
       "      <td>Nicholas Negroponte, founder of the MIT Media ...</td>\n",
       "      <td>1057</td>\n",
       "      <td>TED2006</td>\n",
       "      <td>1140652800</td>\n",
       "      <td>25</td>\n",
       "      <td>Nicholas Negroponte</td>\n",
       "      <td>Nicholas Negroponte: One Laptop per Child</td>\n",
       "      <td>1</td>\n",
       "      <td>1154391060</td>\n",
       "      <td>[{'id': 3, 'name': 'Courageous', 'count': 83},...</td>\n",
       "      <td>[{'id': 2043, 'hero': 'https://pe.tedcdn.com/i...</td>\n",
       "      <td>Tech visionary</td>\n",
       "      <td>['children', 'design', 'education', 'entrepren...</td>\n",
       "      <td>One Laptop per Child</td>\n",
       "      <td>358304</td>\n",
       "      <td>20</td>\n",
       "      <td>8</td>\n",
       "      <td>149</td>\n",
       "    </tr>\n",
       "    <tr>\n",
       "      <th>41</th>\n",
       "      <td>33</td>\n",
       "      <td>Accepting his 2005 TED Prize, inventor Robert ...</td>\n",
       "      <td>1609</td>\n",
       "      <td>TED2005</td>\n",
       "      <td>1109203200</td>\n",
       "      <td>20</td>\n",
       "      <td>Robert Fischell</td>\n",
       "      <td>Robert Fischell: My wish: Three unusual medica...</td>\n",
       "      <td>1</td>\n",
       "      <td>1162253460</td>\n",
       "      <td>[{'id': 9, 'name': 'Ingenious', 'count': 126},...</td>\n",
       "      <td>[{'id': 82, 'hero': 'https://pe.tedcdn.com/ima...</td>\n",
       "      <td>Biomedical inventor</td>\n",
       "      <td>['TED Prize', 'business', 'disease', 'health c...</td>\n",
       "      <td>My wish: Three unusual medical inventions</td>\n",
       "      <td>382996</td>\n",
       "      <td>41</td>\n",
       "      <td>8</td>\n",
       "      <td>215</td>\n",
       "    </tr>\n",
       "    <tr>\n",
       "      <th>60</th>\n",
       "      <td>28</td>\n",
       "      <td>Inventor and MacArthur fellow Saul Griffith sh...</td>\n",
       "      <td>869</td>\n",
       "      <td>TED2006</td>\n",
       "      <td>1140652800</td>\n",
       "      <td>18</td>\n",
       "      <td>Saul Griffith</td>\n",
       "      <td>Saul Griffith: Everyday inventions</td>\n",
       "      <td>1</td>\n",
       "      <td>1171843860</td>\n",
       "      <td>[{'id': 9, 'name': 'Ingenious', 'count': 89}, ...</td>\n",
       "      <td>[{'id': 90, 'hero': 'https://pe.tedcdn.com/ima...</td>\n",
       "      <td>Inventor</td>\n",
       "      <td>['MacArthur grant', 'collaboration', 'design',...</td>\n",
       "      <td>Everyday inventions</td>\n",
       "      <td>442553</td>\n",
       "      <td>19</td>\n",
       "      <td>9</td>\n",
       "      <td>152</td>\n",
       "    </tr>\n",
       "    <tr>\n",
       "      <th>76</th>\n",
       "      <td>40</td>\n",
       "      <td>Nora York gives a stunning performance of her ...</td>\n",
       "      <td>276</td>\n",
       "      <td>TEDSalon 2006</td>\n",
       "      <td>1166054400</td>\n",
       "      <td>28</td>\n",
       "      <td>Nora York</td>\n",
       "      <td>Nora York: Singing \"What I Want\"</td>\n",
       "      <td>1</td>\n",
       "      <td>1175731860</td>\n",
       "      <td>[{'id': 1, 'name': 'Beautiful', 'count': 123},...</td>\n",
       "      <td>[{'id': 158, 'hero': 'https://pe.tedcdn.com/im...</td>\n",
       "      <td>Singer, performance artist</td>\n",
       "      <td>['entertainment', 'live music', 'music', 'perf...</td>\n",
       "      <td>Singing \"What I Want\"</td>\n",
       "      <td>395769</td>\n",
       "      <td>21</td>\n",
       "      <td>6</td>\n",
       "      <td>145</td>\n",
       "    </tr>\n",
       "  </tbody>\n",
       "</table>\n",
       "</div>"
      ],
      "text/plain": [
       "    comments                                        description  duration  \\\n",
       "11        55  Jehane Noujaim unveils her 2006 TED Prize wish...      1538   \n",
       "14        99  Nicholas Negroponte, founder of the MIT Media ...      1057   \n",
       "41        33  Accepting his 2005 TED Prize, inventor Robert ...      1609   \n",
       "60        28  Inventor and MacArthur fellow Saul Griffith sh...       869   \n",
       "76        40  Nora York gives a stunning performance of her ...       276   \n",
       "\n",
       "            event   film_date  languages         main_speaker  \\\n",
       "11        TED2006  1140912000         20       Jehane Noujaim   \n",
       "14        TED2006  1140652800         25  Nicholas Negroponte   \n",
       "41        TED2005  1109203200         20      Robert Fischell   \n",
       "60        TED2006  1140652800         18        Saul Griffith   \n",
       "76  TEDSalon 2006  1166054400         28            Nora York   \n",
       "\n",
       "                                                 name  num_speaker  \\\n",
       "11      Jehane Noujaim: My wish: A global day of film            1   \n",
       "14          Nicholas Negroponte: One Laptop per Child            1   \n",
       "41  Robert Fischell: My wish: Three unusual medica...            1   \n",
       "60                 Saul Griffith: Everyday inventions            1   \n",
       "76                   Nora York: Singing \"What I Want\"            1   \n",
       "\n",
       "    published_date                                            ratings  \\\n",
       "11      1153786260  [{'id': 1, 'name': 'Beautiful', 'count': 70}, ...   \n",
       "14      1154391060  [{'id': 3, 'name': 'Courageous', 'count': 83},...   \n",
       "41      1162253460  [{'id': 9, 'name': 'Ingenious', 'count': 126},...   \n",
       "60      1171843860  [{'id': 9, 'name': 'Ingenious', 'count': 89}, ...   \n",
       "76      1175731860  [{'id': 1, 'name': 'Beautiful', 'count': 123},...   \n",
       "\n",
       "                                        related_talks  \\\n",
       "11  [{'id': 2228, 'hero': 'https://pe.tedcdn.com/i...   \n",
       "14  [{'id': 2043, 'hero': 'https://pe.tedcdn.com/i...   \n",
       "41  [{'id': 82, 'hero': 'https://pe.tedcdn.com/ima...   \n",
       "60  [{'id': 90, 'hero': 'https://pe.tedcdn.com/ima...   \n",
       "76  [{'id': 158, 'hero': 'https://pe.tedcdn.com/im...   \n",
       "\n",
       "            speaker_occupation  \\\n",
       "11                   Filmmaker   \n",
       "14              Tech visionary   \n",
       "41         Biomedical inventor   \n",
       "60                    Inventor   \n",
       "76  Singer, performance artist   \n",
       "\n",
       "                                                 tags  \\\n",
       "11  ['TED Prize', 'art', 'culture', 'entertainment...   \n",
       "14  ['children', 'design', 'education', 'entrepren...   \n",
       "41  ['TED Prize', 'business', 'disease', 'health c...   \n",
       "60  ['MacArthur grant', 'collaboration', 'design',...   \n",
       "76  ['entertainment', 'live music', 'music', 'perf...   \n",
       "\n",
       "                                        title   views  titleLength  numTags  \\\n",
       "11              My wish: A global day of film  387877           29       10   \n",
       "14                       One Laptop per Child  358304           20        8   \n",
       "41  My wish: Three unusual medical inventions  382996           41        8   \n",
       "60                        Everyday inventions  442553           19        9   \n",
       "76                      Singing \"What I Want\"  395769           21        6   \n",
       "\n",
       "    descLength  \n",
       "11         121  \n",
       "14         149  \n",
       "41         215  \n",
       "60         152  \n",
       "76         145  "
      ]
     },
     "execution_count": 128,
     "metadata": {},
     "output_type": "execute_result"
    }
   ],
   "source": [
    "rank3.head()"
   ]
  },
  {
   "cell_type": "code",
   "execution_count": 56,
   "metadata": {
    "collapsed": false
   },
   "outputs": [
    {
     "name": "stdout",
     "output_type": "stream",
     "text": [
      "Popularity Class, Average Views \n",
      "1 17956545.7059\n",
      "2 768292.934896\n",
      "3 356883.804348\n",
      "4 66533.0\n"
     ]
    }
   ],
   "source": [
    "r = 0;\n",
    "print(\"Popularity Class, Average Views \")\n",
    "for i in ranked:\n",
    "    r += 1\n",
    "    print(r, np.mean(i[\"views\"]))"
   ]
  },
  {
   "cell_type": "code",
   "execution_count": 57,
   "metadata": {
    "collapsed": false
   },
   "outputs": [
    {
     "name": "stdout",
     "output_type": "stream",
     "text": [
      "Popularity Class, Average Comments\n",
      "1 996.882352941\n",
      "2 118.005208333\n",
      "3 90.3369565217\n",
      "4 35.3333333333\n"
     ]
    }
   ],
   "source": [
    "r = 0;\n",
    "print(\"Popularity Class, Average Comments\")\n",
    "for i in ranked:\n",
    "    r += 1\n",
    "    print(r, np.mean(i[\"comments\"]))"
   ]
  },
  {
   "cell_type": "code",
   "execution_count": 58,
   "metadata": {
    "collapsed": false
   },
   "outputs": [
    {
     "name": "stdout",
     "output_type": "stream",
     "text": [
      "Popularity Class, Average number languages translated to \n",
      "1 43.4705882353\n",
      "2 24.7330729167\n",
      "3 18.9673913043\n",
      "4 0.0\n"
     ]
    }
   ],
   "source": [
    "r = 0;\n",
    "print(\"Popularity Class, Average number languages translated to \")\n",
    "for i in ranked:\n",
    "    r += 1\n",
    "    print(r, np.mean(i[\"languages\"]))"
   ]
  },
  {
   "cell_type": "code",
   "execution_count": 59,
   "metadata": {
    "collapsed": false
   },
   "outputs": [
    {
     "name": "stdout",
     "output_type": "stream",
     "text": [
      "Popularity Class, Duration\n",
      "1 963.264705882\n",
      "2 830.21875\n",
      "3 825.018115942\n",
      "4 1591.66666667\n"
     ]
    }
   ],
   "source": [
    "r = 0;\n",
    "print(\"Popularity Class, Duration\")\n",
    "for i in ranked:\n",
    "    r += 1\n",
    "    print(r, np.mean(i[\"duration\"]))"
   ]
  },
  {
   "cell_type": "code",
   "execution_count": 60,
   "metadata": {
    "collapsed": false
   },
   "outputs": [
    {
     "name": "stdout",
     "output_type": "stream",
     "text": [
      "Popularity Class, Title Length\n",
      "1 32.4705882353\n",
      "2 34.69140625\n",
      "3 29.9094202899\n",
      "4 21.3333333333\n"
     ]
    }
   ],
   "source": [
    "r = 0;\n",
    "print(\"Popularity Class, Title Length\")\n",
    "for i in ranked:\n",
    "    r += 1\n",
    "    print(r, np.mean(i[\"titleLength\"]))"
   ]
  },
  {
   "cell_type": "code",
   "execution_count": 118,
   "metadata": {
    "collapsed": false
   },
   "outputs": [
    {
     "name": "stdout",
     "output_type": "stream",
     "text": [
      "Popularity Class, Number of Tags\n",
      "1 6.32352941176\n",
      "2 7.51692708333\n",
      "3 6.6884057971\n",
      "4 5.0\n"
     ]
    }
   ],
   "source": [
    "r = 0;\n",
    "print(\"Popularity Class, Number of Tags\")\n",
    "for i in ranked:\n",
    "    r += 1\n",
    "    print(r, np.mean(i[\"numTags\"]))"
   ]
  },
  {
   "cell_type": "code",
   "execution_count": 14,
   "metadata": {
    "collapsed": false
   },
   "outputs": [
    {
     "data": {
      "text/html": [
       "<div>\n",
       "<style>\n",
       "    .dataframe thead tr:only-child th {\n",
       "        text-align: right;\n",
       "    }\n",
       "\n",
       "    .dataframe thead th {\n",
       "        text-align: left;\n",
       "    }\n",
       "\n",
       "    .dataframe tbody tr th {\n",
       "        vertical-align: top;\n",
       "    }\n",
       "</style>\n",
       "<table border=\"1\" class=\"dataframe\">\n",
       "  <thead>\n",
       "    <tr style=\"text-align: right;\">\n",
       "      <th></th>\n",
       "      <th>comments</th>\n",
       "      <th>duration</th>\n",
       "      <th>film_date</th>\n",
       "      <th>languages</th>\n",
       "      <th>num_speaker</th>\n",
       "      <th>published_date</th>\n",
       "      <th>views</th>\n",
       "      <th>titleLength</th>\n",
       "      <th>numTags</th>\n",
       "      <th>descLength</th>\n",
       "    </tr>\n",
       "  </thead>\n",
       "  <tbody>\n",
       "    <tr>\n",
       "      <th>comments</th>\n",
       "      <td>1.000000</td>\n",
       "      <td>0.140694</td>\n",
       "      <td>-0.133303</td>\n",
       "      <td>0.318284</td>\n",
       "      <td>-0.035489</td>\n",
       "      <td>-0.185936</td>\n",
       "      <td>0.530939</td>\n",
       "      <td>-0.126649</td>\n",
       "      <td>-0.110117</td>\n",
       "      <td>-0.103417</td>\n",
       "    </tr>\n",
       "    <tr>\n",
       "      <th>duration</th>\n",
       "      <td>0.140694</td>\n",
       "      <td>1.000000</td>\n",
       "      <td>-0.242941</td>\n",
       "      <td>-0.295681</td>\n",
       "      <td>0.022257</td>\n",
       "      <td>-0.166324</td>\n",
       "      <td>0.048740</td>\n",
       "      <td>-0.014616</td>\n",
       "      <td>0.051372</td>\n",
       "      <td>-0.015165</td>\n",
       "    </tr>\n",
       "    <tr>\n",
       "      <th>film_date</th>\n",
       "      <td>-0.133303</td>\n",
       "      <td>-0.242941</td>\n",
       "      <td>1.000000</td>\n",
       "      <td>-0.061957</td>\n",
       "      <td>0.040227</td>\n",
       "      <td>0.902565</td>\n",
       "      <td>0.006447</td>\n",
       "      <td>0.433693</td>\n",
       "      <td>0.263015</td>\n",
       "      <td>0.620767</td>\n",
       "    </tr>\n",
       "    <tr>\n",
       "      <th>languages</th>\n",
       "      <td>0.318284</td>\n",
       "      <td>-0.295681</td>\n",
       "      <td>-0.061957</td>\n",
       "      <td>1.000000</td>\n",
       "      <td>-0.063100</td>\n",
       "      <td>-0.171836</td>\n",
       "      <td>0.377623</td>\n",
       "      <td>-0.102539</td>\n",
       "      <td>-0.165973</td>\n",
       "      <td>-0.107133</td>\n",
       "    </tr>\n",
       "    <tr>\n",
       "      <th>num_speaker</th>\n",
       "      <td>-0.035489</td>\n",
       "      <td>0.022257</td>\n",
       "      <td>0.040227</td>\n",
       "      <td>-0.063100</td>\n",
       "      <td>1.000000</td>\n",
       "      <td>0.049240</td>\n",
       "      <td>-0.026389</td>\n",
       "      <td>0.005697</td>\n",
       "      <td>0.039960</td>\n",
       "      <td>0.008003</td>\n",
       "    </tr>\n",
       "    <tr>\n",
       "      <th>published_date</th>\n",
       "      <td>-0.185936</td>\n",
       "      <td>-0.166324</td>\n",
       "      <td>0.902565</td>\n",
       "      <td>-0.171836</td>\n",
       "      <td>0.049240</td>\n",
       "      <td>1.000000</td>\n",
       "      <td>-0.017920</td>\n",
       "      <td>0.469871</td>\n",
       "      <td>0.317962</td>\n",
       "      <td>0.677474</td>\n",
       "    </tr>\n",
       "    <tr>\n",
       "      <th>views</th>\n",
       "      <td>0.530939</td>\n",
       "      <td>0.048740</td>\n",
       "      <td>0.006447</td>\n",
       "      <td>0.377623</td>\n",
       "      <td>-0.026389</td>\n",
       "      <td>-0.017920</td>\n",
       "      <td>1.000000</td>\n",
       "      <td>-0.020358</td>\n",
       "      <td>-0.043151</td>\n",
       "      <td>-0.000028</td>\n",
       "    </tr>\n",
       "    <tr>\n",
       "      <th>titleLength</th>\n",
       "      <td>-0.126649</td>\n",
       "      <td>-0.014616</td>\n",
       "      <td>0.433693</td>\n",
       "      <td>-0.102539</td>\n",
       "      <td>0.005697</td>\n",
       "      <td>0.469871</td>\n",
       "      <td>-0.020358</td>\n",
       "      <td>1.000000</td>\n",
       "      <td>0.179747</td>\n",
       "      <td>0.439174</td>\n",
       "    </tr>\n",
       "    <tr>\n",
       "      <th>numTags</th>\n",
       "      <td>-0.110117</td>\n",
       "      <td>0.051372</td>\n",
       "      <td>0.263015</td>\n",
       "      <td>-0.165973</td>\n",
       "      <td>0.039960</td>\n",
       "      <td>0.317962</td>\n",
       "      <td>-0.043151</td>\n",
       "      <td>0.179747</td>\n",
       "      <td>1.000000</td>\n",
       "      <td>0.264608</td>\n",
       "    </tr>\n",
       "    <tr>\n",
       "      <th>descLength</th>\n",
       "      <td>-0.103417</td>\n",
       "      <td>-0.015165</td>\n",
       "      <td>0.620767</td>\n",
       "      <td>-0.107133</td>\n",
       "      <td>0.008003</td>\n",
       "      <td>0.677474</td>\n",
       "      <td>-0.000028</td>\n",
       "      <td>0.439174</td>\n",
       "      <td>0.264608</td>\n",
       "      <td>1.000000</td>\n",
       "    </tr>\n",
       "  </tbody>\n",
       "</table>\n",
       "</div>"
      ],
      "text/plain": [
       "                comments  duration  film_date  languages  num_speaker  \\\n",
       "comments        1.000000  0.140694  -0.133303   0.318284    -0.035489   \n",
       "duration        0.140694  1.000000  -0.242941  -0.295681     0.022257   \n",
       "film_date      -0.133303 -0.242941   1.000000  -0.061957     0.040227   \n",
       "languages       0.318284 -0.295681  -0.061957   1.000000    -0.063100   \n",
       "num_speaker    -0.035489  0.022257   0.040227  -0.063100     1.000000   \n",
       "published_date -0.185936 -0.166324   0.902565  -0.171836     0.049240   \n",
       "views           0.530939  0.048740   0.006447   0.377623    -0.026389   \n",
       "titleLength    -0.126649 -0.014616   0.433693  -0.102539     0.005697   \n",
       "numTags        -0.110117  0.051372   0.263015  -0.165973     0.039960   \n",
       "descLength     -0.103417 -0.015165   0.620767  -0.107133     0.008003   \n",
       "\n",
       "                published_date     views  titleLength   numTags  descLength  \n",
       "comments             -0.185936  0.530939    -0.126649 -0.110117   -0.103417  \n",
       "duration             -0.166324  0.048740    -0.014616  0.051372   -0.015165  \n",
       "film_date             0.902565  0.006447     0.433693  0.263015    0.620767  \n",
       "languages            -0.171836  0.377623    -0.102539 -0.165973   -0.107133  \n",
       "num_speaker           0.049240 -0.026389     0.005697  0.039960    0.008003  \n",
       "published_date        1.000000 -0.017920     0.469871  0.317962    0.677474  \n",
       "views                -0.017920  1.000000    -0.020358 -0.043151   -0.000028  \n",
       "titleLength           0.469871 -0.020358     1.000000  0.179747    0.439174  \n",
       "numTags               0.317962 -0.043151     0.179747  1.000000    0.264608  \n",
       "descLength            0.677474 -0.000028     0.439174  0.264608    1.000000  "
      ]
     },
     "execution_count": 14,
     "metadata": {},
     "output_type": "execute_result"
    }
   ],
   "source": [
    "corr = talks.corr();\n",
    "corr"
   ]
  },
  {
   "cell_type": "code",
   "execution_count": 15,
   "metadata": {
    "collapsed": false
   },
   "outputs": [
    {
     "data": {
      "text/plain": [
       "<matplotlib.axes._subplots.AxesSubplot at 0x10ba90550>"
      ]
     },
     "execution_count": 15,
     "metadata": {},
     "output_type": "execute_result"
    },
    {
     "data": {
      "image/png": "[encoded data removed]",
      "text/plain": [
       "<matplotlib.figure.Figure at 0x10b8fc5c0>"
      ]
     },
     "metadata": {},
     "output_type": "display_data"
    }
   ],
   "source": [
    "sns.heatmap(corr, \n",
    "        xticklabels=corr.columns,\n",
    "        yticklabels=corr.columns, cmap = \"plasma\")"
   ]
  },
  {
   "cell_type": "code",
   "execution_count": null,
   "metadata": {
    "collapsed": true
   },
   "outputs": [],
   "source": [
    "# Size of audience tedX\n",
    "# Group details\n",
    "# Positive, Negative and Moderate\n",
    "# Occupation group\n",
    "# Published Date"
   ]
  }
 ],
 "metadata": {
  "kernelspec": {
   "display_name": "Python 3",
   "language": "python",
   "name": "python3"
  },
  "language_info": {
   "codemirror_mode": {
    "name": "ipython",
    "version": 3
   },
   "file_extension": ".py",
   "mimetype": "text/x-python",
   "name": "python",
   "nbconvert_exporter": "python",
   "pygments_lexer": "ipython3",
   "version": "3.4.3"
  }
 },
 "nbformat": 4,
 "nbformat_minor": 2
}
