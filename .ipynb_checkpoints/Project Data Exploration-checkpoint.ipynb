{
 "cells": [
  {
   "cell_type": "code",
   "execution_count": 1,
   "metadata": {
    "collapsed": true
   },
   "outputs": [],
   "source": [
    "import numpy as np\n",
    "import pandas as pd"
   ]
  },
  {
   "cell_type": "code",
   "execution_count": 2,
   "metadata": {
    "collapsed": true
   },
   "outputs": [],
   "source": [
    "from datascience import *\n",
    "%matplotlib inline\n",
    "import matplotlib.pyplot as plots\n",
    "plots.style.use('fivethirtyeight')"
   ]
  },
  {
   "cell_type": "code",
   "execution_count": 4,
   "metadata": {},
   "outputs": [],
   "source": [
    "df = Table.read_table('ted_talks_ratings .csv')"
   ]
  },
  {
   "cell_type": "code",
   "execution_count": 5,
   "metadata": {
    "collapsed": true
   },
   "outputs": [],
   "source": [
    "#apply functions needed\n",
    "def title_length(title):\n",
    "    words = title.split(' ')\n",
    "    length = len(words)\n",
    "    return length\n",
    "\n",
    "df = df.with_column('Title_Length', df.apply(title_length, 'title'))\n",
    "\n",
    "def question_marks_description(description):\n",
    "    number_question = description.count('?')\n",
    "    return number_question\n",
    "\n",
    "df = df.with_column('Number_Question_marks', df.apply(question_marks_description, 'description'))\n",
    "\n",
    "df = df.drop('url')"
   ]
  },
  {
   "cell_type": "code",
   "execution_count": 21,
   "metadata": {},
   "outputs": [
    {
     "data": {
      "text/html": [
       "<table border=\"1\" class=\"dataframe\">\n",
       "    <thead>\n",
       "        <tr>\n",
       "            <th>comments</th> <th>duration</th> <th>film_date</th> <th>languages</th> <th>main_speaker</th> <th>num_speaker</th> <th>published_date</th> <th>speaker_occupation</th> <th>title</th> <th>views</th> <th>Beautiful</th> <th>Confusing</th> <th>Courageous</th> <th>Funny</th> <th>Informative</th> <th>Ingenious</th> <th>Inspiring</th> <th>Longwinded</th> <th>Unconvincing</th> <th>Fascinating</th> <th>Jaw-dropping</th> <th>Persuasive</th> <th>OK</th> <th>Obnoxious</th> <th>Title_Length</th> <th>Number_Question_marks</th>\n",
       "        </tr>\n",
       "    </thead>\n",
       "    <tbody>\n",
       "        <tr>\n",
       "            <td>4553    </td> <td>1164    </td> <td>1140825600</td> <td>60       </td> <td>Ken Robinson </td> <td>1          </td> <td>1151367060    </td> <td>Author/educator                     </td> <td>Do schools kill creativity?    </td> <td>47227110</td> <td>0.0487267</td> <td>0.00257858</td> <td>0.0346617 </td> <td>0.209323 </td> <td>0.0782738  </td> <td>0.0647096</td> <td>0.265573 </td> <td>0.0041236 </td> <td>0.00319659  </td> <td>0.112744   </td> <td>0.0472989   </td> <td>0.114054  </td> <td>0.0125093 </td> <td>0.00222696</td> <td>4           </td> <td>0                    </td>\n",
       "        </tr>\n",
       "    </tbody>\n",
       "        <tr>\n",
       "            <td>265     </td> <td>977     </td> <td>1140825600</td> <td>43       </td> <td>Al Gore      </td> <td>1          </td> <td>1151367060    </td> <td>Climate advocate                    </td> <td>Averting the climate crisis    </td> <td>3200520 </td> <td>0.0197548</td> <td>0.0211172 </td> <td>0.0473433 </td> <td>0.185286 </td> <td>0.150886   </td> <td>0.0190736</td> <td>0.140668 </td> <td>0.0384877 </td> <td>0.0878747   </td> <td>0.0449591  </td> <td>0.0395095   </td> <td>0.0912807 </td> <td>0.0691417 </td> <td>0.0446185 </td> <td>4           </td> <td>0                    </td>\n",
       "        </tr>\n",
       "    </tbody>\n",
       "        <tr>\n",
       "            <td>124     </td> <td>1286    </td> <td>1140739200</td> <td>26       </td> <td>David Pogue  </td> <td>1          </td> <td>1151367060    </td> <td>Technology columnist                </td> <td>Simplicity sells               </td> <td>1636292 </td> <td>0.0212465</td> <td>0.00956091</td> <td>0.0159348 </td> <td>0.34136  </td> <td>0.139873   </td> <td>0.0648017</td> <td>0.0814448</td> <td>0.0276204 </td> <td>0.0368272   </td> <td>0.0587819  </td> <td>0.0191218   </td> <td>0.0814448 </td> <td>0.0516997 </td> <td>0.0502833 </td> <td>2           </td> <td>0                    </td>\n",
       "        </tr>\n",
       "    </tbody>\n",
       "        <tr>\n",
       "            <td>200     </td> <td>1116    </td> <td>1140912000</td> <td>35       </td> <td>Majora Carter</td> <td>1          </td> <td>1151367060    </td> <td>Activist for environmental justice  </td> <td>Greening the ghetto            </td> <td>1697550 </td> <td>0.0780579</td> <td>0.00858369</td> <td>0.203863  </td> <td>0.0158262</td> <td>0.101931   </td> <td>0.0281652</td> <td>0.287017 </td> <td>0.0142167 </td> <td>0.00965665  </td> <td>0.0354077  </td> <td>0.0616953   </td> <td>0.123391  </td> <td>0.0228004 </td> <td>0.00938841</td> <td>3           </td> <td>0                    </td>\n",
       "        </tr>\n",
       "    </tbody>\n",
       "        <tr>\n",
       "            <td>593     </td> <td>1190    </td> <td>1140566400</td> <td>48       </td> <td>Hans Rosling </td> <td>1          </td> <td>1151440680    </td> <td>Global health expert; data visionary</td> <td>The best stats you've ever seen</td> <td>12005869</td> <td>0.0367681</td> <td>0.0028103 </td> <td>0.0124122 </td> <td>0.0542545</td> <td>0.212061   </td> <td>0.12498  </td> <td>0.11292  </td> <td>0.00429352</td> <td>0.00261514  </td> <td>0.179781   </td> <td>0.145824    </td> <td>0.0992194 </td> <td>0.00967994</td> <td>0.00238095</td> <td>6           </td> <td>0                    </td>\n",
       "        </tr>\n",
       "    </tbody>\n",
       "</table>\n",
       "<p>... (2545 rows omitted)</p"
      ],
      "text/plain": [
       "<IPython.core.display.HTML object>"
      ]
     },
     "metadata": {},
     "output_type": "display_data"
    }
   ],
   "source": [
    "df.show(5)"
   ]
  },
  {
   "cell_type": "code",
   "execution_count": 7,
   "metadata": {},
   "outputs": [
    {
     "data": {
      "text/plain": [
       "708"
      ]
     },
     "execution_count": 7,
     "metadata": {},
     "output_type": "execute_result"
    }
   ],
   "source": [
    "np.count_nonzero(df.column('Number_Question_marks'))"
   ]
  },
  {
   "cell_type": "code",
   "execution_count": 8,
   "metadata": {
    "collapsed": true
   },
   "outputs": [],
   "source": [
    "df = df.drop('related_talks')"
   ]
  },
  {
   "cell_type": "code",
   "execution_count": 10,
   "metadata": {
    "collapsed": true
   },
   "outputs": [],
   "source": [
    "df = df.drop('tags')"
   ]
  },
  {
   "cell_type": "code",
   "execution_count": 12,
   "metadata": {
    "collapsed": true
   },
   "outputs": [],
   "source": [
    "df = df.drop('event')"
   ]
  },
  {
   "cell_type": "code",
   "execution_count": 14,
   "metadata": {
    "collapsed": true
   },
   "outputs": [],
   "source": [
    "df = df.drop('description')"
   ]
  },
  {
   "cell_type": "code",
   "execution_count": 18,
   "metadata": {
    "collapsed": true
   },
   "outputs": [],
   "source": [
    "df = df.drop('Unnamed: 0')"
   ]
  },
  {
   "cell_type": "code",
   "execution_count": 20,
   "metadata": {
    "collapsed": true
   },
   "outputs": [],
   "source": [
    "df = df.drop('name')"
   ]
  },
  {
   "cell_type": "code",
   "execution_count": 22,
   "metadata": {
    "collapsed": true
   },
   "outputs": [],
   "source": [
    "df.to_csv('clean_ted_ratings.csv')"
   ]
  },
  {
   "cell_type": "code",
   "execution_count": null,
   "metadata": {
    "collapsed": true
   },
   "outputs": [],
   "source": []
  }
 ],
 "metadata": {
  "kernelspec": {
   "display_name": "Python 3",
   "language": "python",
   "name": "python3"
  },
  "language_info": {
   "codemirror_mode": {
    "name": "ipython",
    "version": 3
   },
   "file_extension": ".py",
   "mimetype": "text/x-python",
   "name": "python",
   "nbconvert_exporter": "python",
   "pygments_lexer": "ipython3",
   "version": "3.6.1"
  }
 },
 "nbformat": 4,
 "nbformat_minor": 2
}
