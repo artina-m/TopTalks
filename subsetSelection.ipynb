{
 "cells": [
  {
   "cell_type": "code",
   "execution_count": 1,
   "metadata": {
    "collapsed": true
   },
   "outputs": [],
   "source": [
    "library(repr)\n",
    "options(repr.plot.width=4, repr.plot.height=4)"
   ]
  },
  {
   "cell_type": "code",
   "execution_count": 4,
   "metadata": {},
   "outputs": [
    {
     "data": {
      "text/html": [
       "<dl class=dl-horizontal>\n",
       "\t<dt>comments</dt>\n",
       "\t\t<dd>'integer'</dd>\n",
       "\t<dt>duration</dt>\n",
       "\t\t<dd>'integer'</dd>\n",
       "\t<dt>film_date</dt>\n",
       "\t\t<dd>'integer'</dd>\n",
       "\t<dt>languages</dt>\n",
       "\t\t<dd>'integer'</dd>\n",
       "\t<dt>main_speaker</dt>\n",
       "\t\t<dd>'factor'</dd>\n",
       "\t<dt>num_speaker</dt>\n",
       "\t\t<dd>'integer'</dd>\n",
       "\t<dt>published_date</dt>\n",
       "\t\t<dd>'integer'</dd>\n",
       "\t<dt>speaker_occupation</dt>\n",
       "\t\t<dd>'factor'</dd>\n",
       "\t<dt>title</dt>\n",
       "\t\t<dd>'factor'</dd>\n",
       "\t<dt>views</dt>\n",
       "\t\t<dd>'integer'</dd>\n",
       "\t<dt>Beautiful</dt>\n",
       "\t\t<dd>'numeric'</dd>\n",
       "\t<dt>Confusing</dt>\n",
       "\t\t<dd>'numeric'</dd>\n",
       "\t<dt>Courageous</dt>\n",
       "\t\t<dd>'numeric'</dd>\n",
       "\t<dt>Funny</dt>\n",
       "\t\t<dd>'numeric'</dd>\n",
       "\t<dt>Informative</dt>\n",
       "\t\t<dd>'numeric'</dd>\n",
       "\t<dt>Ingenious</dt>\n",
       "\t\t<dd>'numeric'</dd>\n",
       "\t<dt>Inspiring</dt>\n",
       "\t\t<dd>'numeric'</dd>\n",
       "\t<dt>Longwinded</dt>\n",
       "\t\t<dd>'numeric'</dd>\n",
       "\t<dt>Unconvincing</dt>\n",
       "\t\t<dd>'numeric'</dd>\n",
       "\t<dt>Fascinating</dt>\n",
       "\t\t<dd>'numeric'</dd>\n",
       "\t<dt>Jaw.dropping</dt>\n",
       "\t\t<dd>'numeric'</dd>\n",
       "\t<dt>Persuasive</dt>\n",
       "\t\t<dd>'numeric'</dd>\n",
       "\t<dt>OK</dt>\n",
       "\t\t<dd>'numeric'</dd>\n",
       "\t<dt>Obnoxious</dt>\n",
       "\t\t<dd>'numeric'</dd>\n",
       "\t<dt>Title_Length</dt>\n",
       "\t\t<dd>'integer'</dd>\n",
       "\t<dt>Number_Question_marks</dt>\n",
       "\t\t<dd>'integer'</dd>\n",
       "</dl>\n"
      ],
      "text/latex": [
       "\\begin{description*}\n",
       "\\item[comments] 'integer'\n",
       "\\item[duration] 'integer'\n",
       "\\item[film\\textbackslash{}\\_date] 'integer'\n",
       "\\item[languages] 'integer'\n",
       "\\item[main\\textbackslash{}\\_speaker] 'factor'\n",
       "\\item[num\\textbackslash{}\\_speaker] 'integer'\n",
       "\\item[published\\textbackslash{}\\_date] 'integer'\n",
       "\\item[speaker\\textbackslash{}\\_occupation] 'factor'\n",
       "\\item[title] 'factor'\n",
       "\\item[views] 'integer'\n",
       "\\item[Beautiful] 'numeric'\n",
       "\\item[Confusing] 'numeric'\n",
       "\\item[Courageous] 'numeric'\n",
       "\\item[Funny] 'numeric'\n",
       "\\item[Informative] 'numeric'\n",
       "\\item[Ingenious] 'numeric'\n",
       "\\item[Inspiring] 'numeric'\n",
       "\\item[Longwinded] 'numeric'\n",
       "\\item[Unconvincing] 'numeric'\n",
       "\\item[Fascinating] 'numeric'\n",
       "\\item[Jaw.dropping] 'numeric'\n",
       "\\item[Persuasive] 'numeric'\n",
       "\\item[OK] 'numeric'\n",
       "\\item[Obnoxious] 'numeric'\n",
       "\\item[Title\\textbackslash{}\\_Length] 'integer'\n",
       "\\item[Number\\textbackslash{}\\_Question\\textbackslash{}\\_marks] 'integer'\n",
       "\\end{description*}\n"
      ],
      "text/markdown": [
       "comments\n",
       ":   'integer'duration\n",
       ":   'integer'film_date\n",
       ":   'integer'languages\n",
       ":   'integer'main_speaker\n",
       ":   'factor'num_speaker\n",
       ":   'integer'published_date\n",
       ":   'integer'speaker_occupation\n",
       ":   'factor'title\n",
       ":   'factor'views\n",
       ":   'integer'Beautiful\n",
       ":   'numeric'Confusing\n",
       ":   'numeric'Courageous\n",
       ":   'numeric'Funny\n",
       ":   'numeric'Informative\n",
       ":   'numeric'Ingenious\n",
       ":   'numeric'Inspiring\n",
       ":   'numeric'Longwinded\n",
       ":   'numeric'Unconvincing\n",
       ":   'numeric'Fascinating\n",
       ":   'numeric'Jaw.dropping\n",
       ":   'numeric'Persuasive\n",
       ":   'numeric'OK\n",
       ":   'numeric'Obnoxious\n",
       ":   'numeric'Title_Length\n",
       ":   'integer'Number_Question_marks\n",
       ":   'integer'\n",
       "\n"
      ],
      "text/plain": [
       "             comments              duration             film_date \n",
       "            \"integer\"             \"integer\"             \"integer\" \n",
       "            languages          main_speaker           num_speaker \n",
       "            \"integer\"              \"factor\"             \"integer\" \n",
       "       published_date    speaker_occupation                 title \n",
       "            \"integer\"              \"factor\"              \"factor\" \n",
       "                views             Beautiful             Confusing \n",
       "            \"integer\"             \"numeric\"             \"numeric\" \n",
       "           Courageous                 Funny           Informative \n",
       "            \"numeric\"             \"numeric\"             \"numeric\" \n",
       "            Ingenious             Inspiring            Longwinded \n",
       "            \"numeric\"             \"numeric\"             \"numeric\" \n",
       "         Unconvincing           Fascinating          Jaw.dropping \n",
       "            \"numeric\"             \"numeric\"             \"numeric\" \n",
       "           Persuasive                    OK             Obnoxious \n",
       "            \"numeric\"             \"numeric\"             \"numeric\" \n",
       "         Title_Length Number_Question_marks \n",
       "            \"integer\"             \"integer\" "
      ]
     },
     "metadata": {},
     "output_type": "display_data"
    }
   ],
   "source": [
    "ted <- read.csv('clean_ted_ratings.csv', header= TRUE)\n",
    "sapply(ted,class)"
   ]
  },
  {
   "cell_type": "code",
   "execution_count": 5,
   "metadata": {
    "collapsed": true
   },
   "outputs": [],
   "source": [
    "x=model.matrix(views~.,ted)[,-1]\n",
    "y=ted$views"
   ]
  },
  {
   "cell_type": "code",
   "execution_count": null,
   "metadata": {
    "collapsed": true
   },
   "outputs": [],
   "source": [
    "#write our own predict function\n",
    "predict.regsubsets = function (object , newdata ,id ,...){\n",
    " form=as.formula (object$call [[2]])\n",
    " mat=model.matrix(form ,newdata )\n",
    " coefi=coef(object ,id=id)\n",
    " xvars=names(coefi)\n",
    " mat[,xvars]%*%coefi\n",
    " }"
   ]
  },
  {
   "cell_type": "code",
   "execution_count": null,
   "metadata": {
    "collapsed": true
   },
   "outputs": [],
   "source": [
    "k = 10\n",
    "set.seed(1)\n",
    "folds = sample(1:k, nrow(Hitters), replace =TRUE)\n",
    "cv.errors = matrix(NA, k, 19, dimnames = list(NULL, paste(1:19)))"
   ]
  },
  {
   "cell_type": "code",
   "execution_count": null,
   "metadata": {
    "collapsed": true
   },
   "outputs": [],
   "source": [
    "#perform the cross validation\n",
    "for (j in 1:k){\n",
    "    regfit.fwd = regsubsets(Salary~., data=Hitters[folds!=j,], \n",
    "                            nvmax=19, method='forward')\n",
    "    for (i in 1:19){\n",
    "        pred = predict(regfit.fwd, Hitters[folds==j,], id=i)\n",
    "        cv.errors[j,i] = mean((Hitters$Salary[folds==j]-pred)^2)\n",
    "    }\n",
    "}"
   ]
  },
  {
   "cell_type": "code",
   "execution_count": null,
   "metadata": {
    "collapsed": true
   },
   "outputs": [],
   "source": [
    "mean.cv.errors=apply(cv.errors,2, mean)\n",
    "par(mfrow=c(1,1))\n",
    "plot(mean.cv.errors, type='b')\n",
    "print(mean.cv.errors)\n",
    "#lowest is a model with 9 variables"
   ]
  },
  {
   "cell_type": "code",
   "execution_count": null,
   "metadata": {
    "collapsed": true
   },
   "outputs": [],
   "source": [
    "#now, apply forward subset selection on the full data set to get the model\n",
    "regfit.fwd = regsubsets(Salary∼.,data=Hitters,\n",
    "                        nvmax=19, method='forward')\n",
    "coef(regfit.fwd, 9)"
   ]
  },
  {
   "cell_type": "code",
   "execution_count": null,
   "metadata": {
    "collapsed": true
   },
   "outputs": [],
   "source": [
    "ptm = proc.time()\n",
    "cv.error=rep(0,5)\n",
    "for (i in 1:5) {\n",
    " glm.fit = glm(Price~poly(Age_08_04, i)+poly(KM,i), data = corollas)\n",
    " cv.error[i] = cv.glm(corollas, glm.fit, K=10)$delta[1]\n",
    " }\n",
    "cv.error\n",
    "proc.time() - ptm\n",
    "plot(cv.error, type=\"b\")"
   ]
  },
  {
   "cell_type": "code",
   "execution_count": null,
   "metadata": {
    "collapsed": true
   },
   "outputs": [],
   "source": []
  },
  {
   "cell_type": "code",
   "execution_count": null,
   "metadata": {
    "collapsed": true
   },
   "outputs": [],
   "source": []
  },
  {
   "cell_type": "code",
   "execution_count": null,
   "metadata": {
    "collapsed": true
   },
   "outputs": [],
   "source": []
  },
  {
   "cell_type": "code",
   "execution_count": null,
   "metadata": {
    "collapsed": true
   },
   "outputs": [],
   "source": []
  },
  {
   "cell_type": "code",
   "execution_count": null,
   "metadata": {
    "collapsed": true
   },
   "outputs": [],
   "source": []
  },
  {
   "cell_type": "code",
   "execution_count": null,
   "metadata": {
    "collapsed": true
   },
   "outputs": [],
   "source": []
  }
 ],
 "metadata": {
  "kernelspec": {
   "display_name": "R",
   "language": "R",
   "name": "ir"
  },
  "language_info": {
   "codemirror_mode": "r",
   "file_extension": ".r",
   "mimetype": "text/x-r-source",
   "name": "R",
   "pygments_lexer": "r",
   "version": "3.4.3"
  }
 },
 "nbformat": 4,
 "nbformat_minor": 2
}
