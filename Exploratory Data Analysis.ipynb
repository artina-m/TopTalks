{
 "cells": [
  {
   "cell_type": "markdown",
   "metadata": {},
   "source": [
    "# Exploratory Data Analysis"
   ]
  },
  {
   "cell_type": "code",
   "execution_count": 1,
   "metadata": {},
   "outputs": [],
   "source": [
    "import matplotlib.pyplot as plt\n",
    "%matplotlib inline\n",
    "import numpy as np\n",
    "import pandas as pd\n",
    "import seaborn as sns\n",
    "from sklearn.preprocessing import normalize, scale\n",
    "from collections import Counter, defaultdict\n",
    "import ast"
   ]
  },
  {
   "cell_type": "markdown",
   "metadata": {},
   "source": [
    "<hr>"
   ]
  },
  {
   "cell_type": "code",
   "execution_count": 2,
   "metadata": {},
   "outputs": [
    {
     "data": {
      "text/html": [
       "<div>\n",
       "<style>\n",
       "    .dataframe thead tr:only-child th {\n",
       "        text-align: right;\n",
       "    }\n",
       "\n",
       "    .dataframe thead th {\n",
       "        text-align: left;\n",
       "    }\n",
       "\n",
       "    .dataframe tbody tr th {\n",
       "        vertical-align: top;\n",
       "    }\n",
       "</style>\n",
       "<table border=\"1\" class=\"dataframe\">\n",
       "  <thead>\n",
       "    <tr style=\"text-align: right;\">\n",
       "      <th></th>\n",
       "      <th>comments</th>\n",
       "      <th>description</th>\n",
       "      <th>duration</th>\n",
       "      <th>event</th>\n",
       "      <th>film_date</th>\n",
       "      <th>languages</th>\n",
       "      <th>main_speaker</th>\n",
       "      <th>name</th>\n",
       "      <th>num_speaker</th>\n",
       "      <th>published_date</th>\n",
       "      <th>ratings</th>\n",
       "      <th>related_talks</th>\n",
       "      <th>speaker_occupation</th>\n",
       "      <th>tags</th>\n",
       "      <th>title</th>\n",
       "      <th>url</th>\n",
       "      <th>views</th>\n",
       "    </tr>\n",
       "  </thead>\n",
       "  <tbody>\n",
       "    <tr>\n",
       "      <th>0</th>\n",
       "      <td>4553</td>\n",
       "      <td>Sir Ken Robinson makes an entertaining and pro...</td>\n",
       "      <td>1164</td>\n",
       "      <td>TED2006</td>\n",
       "      <td>1140825600</td>\n",
       "      <td>60</td>\n",
       "      <td>Ken Robinson</td>\n",
       "      <td>Ken Robinson: Do schools kill creativity?</td>\n",
       "      <td>1</td>\n",
       "      <td>1151367060</td>\n",
       "      <td>[{'id': 7, 'name': 'Funny', 'count': 19645}, {...</td>\n",
       "      <td>[{'id': 865, 'hero': 'https://pe.tedcdn.com/im...</td>\n",
       "      <td>Author/educator</td>\n",
       "      <td>['children', 'creativity', 'culture', 'dance',...</td>\n",
       "      <td>Do schools kill creativity?</td>\n",
       "      <td>https://www.ted.com/talks/ken_robinson_says_sc...</td>\n",
       "      <td>47227110</td>\n",
       "    </tr>\n",
       "    <tr>\n",
       "      <th>1</th>\n",
       "      <td>265</td>\n",
       "      <td>With the same humor and humanity he exuded in ...</td>\n",
       "      <td>977</td>\n",
       "      <td>TED2006</td>\n",
       "      <td>1140825600</td>\n",
       "      <td>43</td>\n",
       "      <td>Al Gore</td>\n",
       "      <td>Al Gore: Averting the climate crisis</td>\n",
       "      <td>1</td>\n",
       "      <td>1151367060</td>\n",
       "      <td>[{'id': 7, 'name': 'Funny', 'count': 544}, {'i...</td>\n",
       "      <td>[{'id': 243, 'hero': 'https://pe.tedcdn.com/im...</td>\n",
       "      <td>Climate advocate</td>\n",
       "      <td>['alternative energy', 'cars', 'climate change...</td>\n",
       "      <td>Averting the climate crisis</td>\n",
       "      <td>https://www.ted.com/talks/al_gore_on_averting_...</td>\n",
       "      <td>3200520</td>\n",
       "    </tr>\n",
       "    <tr>\n",
       "      <th>2</th>\n",
       "      <td>124</td>\n",
       "      <td>New York Times columnist David Pogue takes aim...</td>\n",
       "      <td>1286</td>\n",
       "      <td>TED2006</td>\n",
       "      <td>1140739200</td>\n",
       "      <td>26</td>\n",
       "      <td>David Pogue</td>\n",
       "      <td>David Pogue: Simplicity sells</td>\n",
       "      <td>1</td>\n",
       "      <td>1151367060</td>\n",
       "      <td>[{'id': 7, 'name': 'Funny', 'count': 964}, {'i...</td>\n",
       "      <td>[{'id': 1725, 'hero': 'https://pe.tedcdn.com/i...</td>\n",
       "      <td>Technology columnist</td>\n",
       "      <td>['computers', 'entertainment', 'interface desi...</td>\n",
       "      <td>Simplicity sells</td>\n",
       "      <td>https://www.ted.com/talks/david_pogue_says_sim...</td>\n",
       "      <td>1636292</td>\n",
       "    </tr>\n",
       "    <tr>\n",
       "      <th>3</th>\n",
       "      <td>200</td>\n",
       "      <td>In an emotionally charged talk, MacArthur-winn...</td>\n",
       "      <td>1116</td>\n",
       "      <td>TED2006</td>\n",
       "      <td>1140912000</td>\n",
       "      <td>35</td>\n",
       "      <td>Majora Carter</td>\n",
       "      <td>Majora Carter: Greening the ghetto</td>\n",
       "      <td>1</td>\n",
       "      <td>1151367060</td>\n",
       "      <td>[{'id': 3, 'name': 'Courageous', 'count': 760}...</td>\n",
       "      <td>[{'id': 1041, 'hero': 'https://pe.tedcdn.com/i...</td>\n",
       "      <td>Activist for environmental justice</td>\n",
       "      <td>['MacArthur grant', 'activism', 'business', 'c...</td>\n",
       "      <td>Greening the ghetto</td>\n",
       "      <td>https://www.ted.com/talks/majora_carter_s_tale...</td>\n",
       "      <td>1697550</td>\n",
       "    </tr>\n",
       "    <tr>\n",
       "      <th>4</th>\n",
       "      <td>593</td>\n",
       "      <td>You've never seen data presented like this. Wi...</td>\n",
       "      <td>1190</td>\n",
       "      <td>TED2006</td>\n",
       "      <td>1140566400</td>\n",
       "      <td>48</td>\n",
       "      <td>Hans Rosling</td>\n",
       "      <td>Hans Rosling: The best stats you've ever seen</td>\n",
       "      <td>1</td>\n",
       "      <td>1151440680</td>\n",
       "      <td>[{'id': 9, 'name': 'Ingenious', 'count': 3202}...</td>\n",
       "      <td>[{'id': 2056, 'hero': 'https://pe.tedcdn.com/i...</td>\n",
       "      <td>Global health expert; data visionary</td>\n",
       "      <td>['Africa', 'Asia', 'Google', 'demo', 'economic...</td>\n",
       "      <td>The best stats you've ever seen</td>\n",
       "      <td>https://www.ted.com/talks/hans_rosling_shows_t...</td>\n",
       "      <td>12005869</td>\n",
       "    </tr>\n",
       "  </tbody>\n",
       "</table>\n",
       "</div>"
      ],
      "text/plain": [
       "   comments                                        description  duration  \\\n",
       "0      4553  Sir Ken Robinson makes an entertaining and pro...      1164   \n",
       "1       265  With the same humor and humanity he exuded in ...       977   \n",
       "2       124  New York Times columnist David Pogue takes aim...      1286   \n",
       "3       200  In an emotionally charged talk, MacArthur-winn...      1116   \n",
       "4       593  You've never seen data presented like this. Wi...      1190   \n",
       "\n",
       "     event   film_date  languages   main_speaker  \\\n",
       "0  TED2006  1140825600         60   Ken Robinson   \n",
       "1  TED2006  1140825600         43        Al Gore   \n",
       "2  TED2006  1140739200         26    David Pogue   \n",
       "3  TED2006  1140912000         35  Majora Carter   \n",
       "4  TED2006  1140566400         48   Hans Rosling   \n",
       "\n",
       "                                            name  num_speaker  published_date  \\\n",
       "0      Ken Robinson: Do schools kill creativity?            1      1151367060   \n",
       "1           Al Gore: Averting the climate crisis            1      1151367060   \n",
       "2                  David Pogue: Simplicity sells            1      1151367060   \n",
       "3             Majora Carter: Greening the ghetto            1      1151367060   \n",
       "4  Hans Rosling: The best stats you've ever seen            1      1151440680   \n",
       "\n",
       "                                             ratings  \\\n",
       "0  [{'id': 7, 'name': 'Funny', 'count': 19645}, {...   \n",
       "1  [{'id': 7, 'name': 'Funny', 'count': 544}, {'i...   \n",
       "2  [{'id': 7, 'name': 'Funny', 'count': 964}, {'i...   \n",
       "3  [{'id': 3, 'name': 'Courageous', 'count': 760}...   \n",
       "4  [{'id': 9, 'name': 'Ingenious', 'count': 3202}...   \n",
       "\n",
       "                                       related_talks  \\\n",
       "0  [{'id': 865, 'hero': 'https://pe.tedcdn.com/im...   \n",
       "1  [{'id': 243, 'hero': 'https://pe.tedcdn.com/im...   \n",
       "2  [{'id': 1725, 'hero': 'https://pe.tedcdn.com/i...   \n",
       "3  [{'id': 1041, 'hero': 'https://pe.tedcdn.com/i...   \n",
       "4  [{'id': 2056, 'hero': 'https://pe.tedcdn.com/i...   \n",
       "\n",
       "                     speaker_occupation  \\\n",
       "0                       Author/educator   \n",
       "1                      Climate advocate   \n",
       "2                  Technology columnist   \n",
       "3    Activist for environmental justice   \n",
       "4  Global health expert; data visionary   \n",
       "\n",
       "                                                tags  \\\n",
       "0  ['children', 'creativity', 'culture', 'dance',...   \n",
       "1  ['alternative energy', 'cars', 'climate change...   \n",
       "2  ['computers', 'entertainment', 'interface desi...   \n",
       "3  ['MacArthur grant', 'activism', 'business', 'c...   \n",
       "4  ['Africa', 'Asia', 'Google', 'demo', 'economic...   \n",
       "\n",
       "                             title  \\\n",
       "0      Do schools kill creativity?   \n",
       "1      Averting the climate crisis   \n",
       "2                 Simplicity sells   \n",
       "3              Greening the ghetto   \n",
       "4  The best stats you've ever seen   \n",
       "\n",
       "                                                 url     views  \n",
       "0  https://www.ted.com/talks/ken_robinson_says_sc...  47227110  \n",
       "1  https://www.ted.com/talks/al_gore_on_averting_...   3200520  \n",
       "2  https://www.ted.com/talks/david_pogue_says_sim...   1636292  \n",
       "3  https://www.ted.com/talks/majora_carter_s_tale...   1697550  \n",
       "4  https://www.ted.com/talks/hans_rosling_shows_t...  12005869  "
      ]
     },
     "execution_count": 2,
     "metadata": {},
     "output_type": "execute_result"
    }
   ],
   "source": [
    "# Import data\n",
    "talks = pd.read_csv(\"ted_main.csv\")\n",
    "talks.head()"
   ]
  },
  {
   "cell_type": "code",
   "execution_count": 3,
   "metadata": {},
   "outputs": [
    {
     "data": {
      "text/plain": [
       "comments              False\n",
       "description           False\n",
       "duration              False\n",
       "event                 False\n",
       "film_date             False\n",
       "languages             False\n",
       "main_speaker          False\n",
       "name                  False\n",
       "num_speaker           False\n",
       "published_date        False\n",
       "ratings               False\n",
       "related_talks         False\n",
       "speaker_occupation     True\n",
       "tags                  False\n",
       "title                 False\n",
       "url                   False\n",
       "views                 False\n",
       "dtype: bool"
      ]
     },
     "execution_count": 3,
     "metadata": {},
     "output_type": "execute_result"
    }
   ],
   "source": [
    "talks.isnull().any() # Check for null values, resuts: speaker_occupation"
   ]
  },
  {
   "cell_type": "markdown",
   "metadata": {},
   "source": [
    "** Note: Dropping \"URL\" and \"Speaker_occupation\" from the dataset **"
   ]
  },
  {
   "cell_type": "code",
   "execution_count": 4,
   "metadata": {},
   "outputs": [],
   "source": [
    "talks = talks.drop([\"url\", \"speaker_occupation\"], axis = 1)"
   ]
  },
  {
   "cell_type": "markdown",
   "metadata": {},
   "source": [
    "<h3> Add features of interest </h3>"
   ]
  },
  {
   "cell_type": "markdown",
   "metadata": {},
   "source": [
    "**Add the following new columns**\n",
    "- Length of Ted Talk title\n",
    "- Total number of tags\n",
    "- Length of description \n",
    "- Positive Ratings: 'Funny','Beautiful','Ingenious','Courageous','Inspiring','Jaw-dropping','Fascinating'\n",
    "- Moderate Ratings: 'Informative','OK','Persuasive'\n",
    "- Negative Ratings: 'Longwinded','Unconvincing','Obnoxious','Confusing'\n",
    "- Event type (7 new columns + event class): \"is_yearlyTedConference\", \"is_TEDGlobal\",\"is_TEDSalon\", \"is_TEDx\", \"is_TEDWomen\", \"is_TEDNYC\", \"is_Other\"\n",
    "- Top Tags: \"is_culture\", \"is_technology\", \"is_science\", \"is_business\", \"is_TEDx\", \"is_globalIssues\", \"is_entertainment\", \"is_design\", \"is_psychology\", \"is_brain\""
   ]
  },
  {
   "cell_type": "code",
   "execution_count": 5,
   "metadata": {},
   "outputs": [],
   "source": [
    "tl = [] # Title Length\n",
    "for t in talks[\"title\"]: tl.append(len(t))\n",
    "talks[\"titleLength\"] = tl\n",
    "\n",
    "nt = [] # Number of tags\n",
    "for n in talks[\"tags\"]:\n",
    "    n = eval(n)\n",
    "    nt.append(len(n))\n",
    "talks[\"numTags\"] = nt\n",
    "\n",
    "d = [] # Length of description\n",
    "for s in talks[\"description\"]:d.append(len(s))\n",
    "talks[\"descLength\"] = d"
   ]
  },
  {
   "cell_type": "code",
   "execution_count": 6,
   "metadata": {},
   "outputs": [],
   "source": [
    "# All the ratings\n",
    "ratings = ['Funny', 'Beautiful', 'Ingenious', 'Courageous', 'Longwinded', 'Confusing',\n",
    "           'Informative', 'Fascinating', 'Unconvincing', 'Persuasive', 'Jaw-dropping', 'OK',\n",
    "           'Obnoxious', 'Inspiring']\n",
    "\n",
    "rate = []\n",
    "#For this function (x) denotes the rating of interest\n",
    "def parse(x):\n",
    "    #Loop over all talks in dataframe\n",
    "    for ll in range(len(talks)):\n",
    "        #First we split on the rating of interest and subsequent splits work to isolate the rating counts\n",
    "        splitting = talks['ratings'][ll].split(x)\n",
    "        splitting2 = splitting[1].split(':')\n",
    "        splitting3 = splitting2[1].split(\" \")\n",
    "        splitting4 = splitting3[1].split(\"}\")\n",
    "        #Isolate number of ratings\n",
    "        rate.append(splitting4[0])\n",
    "        series = pd.Series(rate)\n",
    "        #Create column in dataframe for rating\n",
    "        talks[x] = series\n",
    "        \n",
    "for rating in ratings:\n",
    "    parse(rating)\n",
    "    rate.clear()"
   ]
  },
  {
   "cell_type": "code",
   "execution_count": 7,
   "metadata": {},
   "outputs": [],
   "source": [
    "talks[ratings] = talks[ratings].astype(int)"
   ]
  },
  {
   "cell_type": "code",
   "execution_count": 8,
   "metadata": {
    "collapsed": true
   },
   "outputs": [],
   "source": [
    "#Categorize the ratings into the three broad categories\n",
    "positive = ['Funny','Beautiful','Ingenious','Courageous','Inspiring','Jaw-dropping','Fascinating']\n",
    "negative = ['Longwinded','Unconvincing','Obnoxious','Confusing']\n",
    "moderate = ['Informative','OK','Persuasive']"
   ]
  },
  {
   "cell_type": "code",
   "execution_count": 9,
   "metadata": {},
   "outputs": [],
   "source": [
    "talks['Positive'] = talks['Funny'] + talks['Beautiful'] + talks['Ingenious'] + talks['Courageous'] + talks['Inspiring'] + talks['Jaw-dropping'] + talks['Fascinating']\n",
    "talks['Moderate'] = talks['OK'] + talks[\"Informative\"] + talks[\"Persuasive\"]\n",
    "talks['Negative'] = talks['Longwinded'] + talks['Unconvincing'] + talks['Obnoxious'] + talks['Confusing']"
   ]
  },
  {
   "cell_type": "code",
   "execution_count": 10,
   "metadata": {},
   "outputs": [
    {
     "data": {
      "text/html": [
       "<div>\n",
       "<style>\n",
       "    .dataframe thead tr:only-child th {\n",
       "        text-align: right;\n",
       "    }\n",
       "\n",
       "    .dataframe thead th {\n",
       "        text-align: left;\n",
       "    }\n",
       "\n",
       "    .dataframe tbody tr th {\n",
       "        vertical-align: top;\n",
       "    }\n",
       "</style>\n",
       "<table border=\"1\" class=\"dataframe\">\n",
       "  <thead>\n",
       "    <tr style=\"text-align: right;\">\n",
       "      <th></th>\n",
       "      <th>Positive</th>\n",
       "      <th>Moderate</th>\n",
       "      <th>Negative</th>\n",
       "    </tr>\n",
       "  </thead>\n",
       "  <tbody>\n",
       "    <tr>\n",
       "      <th>0</th>\n",
       "      <td>73488</td>\n",
       "      <td>19224</td>\n",
       "      <td>1138</td>\n",
       "    </tr>\n",
       "    <tr>\n",
       "      <th>1</th>\n",
       "      <td>1458</td>\n",
       "      <td>914</td>\n",
       "      <td>564</td>\n",
       "    </tr>\n",
       "    <tr>\n",
       "      <th>2</th>\n",
       "      <td>1702</td>\n",
       "      <td>771</td>\n",
       "      <td>351</td>\n",
       "    </tr>\n",
       "    <tr>\n",
       "      <th>3</th>\n",
       "      <td>2647</td>\n",
       "      <td>925</td>\n",
       "      <td>156</td>\n",
       "    </tr>\n",
       "    <tr>\n",
       "      <th>4</th>\n",
       "      <td>17087</td>\n",
       "      <td>8223</td>\n",
       "      <td>310</td>\n",
       "    </tr>\n",
       "  </tbody>\n",
       "</table>\n",
       "</div>"
      ],
      "text/plain": [
       "   Positive  Moderate  Negative\n",
       "0     73488     19224      1138\n",
       "1      1458       914       564\n",
       "2      1702       771       351\n",
       "3      2647       925       156\n",
       "4     17087      8223       310"
      ]
     },
     "execution_count": 10,
     "metadata": {},
     "output_type": "execute_result"
    }
   ],
   "source": [
    "talks[['Positive','Moderate','Negative']].head()"
   ]
  },
  {
   "cell_type": "code",
   "execution_count": 11,
   "metadata": {},
   "outputs": [
    {
     "data": {
      "text/html": [
       "<div>\n",
       "<style>\n",
       "    .dataframe thead tr:only-child th {\n",
       "        text-align: right;\n",
       "    }\n",
       "\n",
       "    .dataframe thead th {\n",
       "        text-align: left;\n",
       "    }\n",
       "\n",
       "    .dataframe tbody tr th {\n",
       "        vertical-align: top;\n",
       "    }\n",
       "</style>\n",
       "<table border=\"1\" class=\"dataframe\">\n",
       "  <thead>\n",
       "    <tr style=\"text-align: right;\">\n",
       "      <th></th>\n",
       "      <th>Positive</th>\n",
       "      <th>Moderate</th>\n",
       "      <th>Negative</th>\n",
       "    </tr>\n",
       "  </thead>\n",
       "  <tbody>\n",
       "    <tr>\n",
       "      <th>count</th>\n",
       "      <td>2550.000000</td>\n",
       "      <td>2550.000000</td>\n",
       "      <td>2550.000000</td>\n",
       "    </tr>\n",
       "    <tr>\n",
       "      <th>mean</th>\n",
       "      <td>1654.662353</td>\n",
       "      <td>649.337647</td>\n",
       "      <td>132.408235</td>\n",
       "    </tr>\n",
       "    <tr>\n",
       "      <th>std</th>\n",
       "      <td>3320.792741</td>\n",
       "      <td>1013.887279</td>\n",
       "      <td>186.863786</td>\n",
       "    </tr>\n",
       "    <tr>\n",
       "      <th>min</th>\n",
       "      <td>37.000000</td>\n",
       "      <td>4.000000</td>\n",
       "      <td>0.000000</td>\n",
       "    </tr>\n",
       "    <tr>\n",
       "      <th>25%</th>\n",
       "      <td>468.000000</td>\n",
       "      <td>213.250000</td>\n",
       "      <td>39.000000</td>\n",
       "    </tr>\n",
       "    <tr>\n",
       "      <th>50%</th>\n",
       "      <td>876.000000</td>\n",
       "      <td>386.000000</td>\n",
       "      <td>77.000000</td>\n",
       "    </tr>\n",
       "    <tr>\n",
       "      <th>75%</th>\n",
       "      <td>1690.000000</td>\n",
       "      <td>720.750000</td>\n",
       "      <td>157.000000</td>\n",
       "    </tr>\n",
       "    <tr>\n",
       "      <th>max</th>\n",
       "      <td>73488.000000</td>\n",
       "      <td>19224.000000</td>\n",
       "      <td>3777.000000</td>\n",
       "    </tr>\n",
       "  </tbody>\n",
       "</table>\n",
       "</div>"
      ],
      "text/plain": [
       "           Positive      Moderate     Negative\n",
       "count   2550.000000   2550.000000  2550.000000\n",
       "mean    1654.662353    649.337647   132.408235\n",
       "std     3320.792741   1013.887279   186.863786\n",
       "min       37.000000      4.000000     0.000000\n",
       "25%      468.000000    213.250000    39.000000\n",
       "50%      876.000000    386.000000    77.000000\n",
       "75%     1690.000000    720.750000   157.000000\n",
       "max    73488.000000  19224.000000  3777.000000"
      ]
     },
     "execution_count": 11,
     "metadata": {},
     "output_type": "execute_result"
    }
   ],
   "source": [
    "talks[['Positive','Moderate','Negative']].describe()"
   ]
  },
  {
   "cell_type": "markdown",
   "metadata": {},
   "source": [
    "** Event Type ** <br>\n",
    "Can help determine if a TED talk is more likely to be viewed if they are given\n",
    "at a bigger event/convention. There are a lot of different events (355) therefore \n",
    "we will condense the data into broader categories\n",
    "- Year TED Conference: Main event, 5 day annual conference\n",
    "- TEDx: Independent/locally hosted TED events\n",
    "- TEDGlobal: Annual 5 day conference\n",
    "- TEDWoman: 3 day conference\n",
    "- TEDSalon: Small weekly/monthly events\n",
    "- TEDNYC: Hosted in NYC\n",
    "- Other\n",
    "    "
   ]
  },
  {
   "cell_type": "code",
   "execution_count": 12,
   "metadata": {},
   "outputs": [
    {
     "data": {
      "text/plain": [
       "355"
      ]
     },
     "execution_count": 12,
     "metadata": {},
     "output_type": "execute_result"
    }
   ],
   "source": [
    "# Event type\n",
    "len(talks['event'].unique())"
   ]
  },
  {
   "cell_type": "code",
   "execution_count": 13,
   "metadata": {},
   "outputs": [
    {
     "name": "stderr",
     "output_type": "stream",
     "text": [
      "C:\\ProgramData\\Anaconda3\\lib\\site-packages\\ipykernel_launcher.py:5: SettingWithCopyWarning: \n",
      "A value is trying to be set on a copy of a slice from a DataFrame\n",
      "\n",
      "See the caveats in the documentation: http://pandas.pydata.org/pandas-docs/stable/indexing.html#indexing-view-versus-copy\n",
      "  \"\"\"\n",
      "C:\\ProgramData\\Anaconda3\\lib\\site-packages\\ipykernel_launcher.py:11: SettingWithCopyWarning: \n",
      "A value is trying to be set on a copy of a slice from a DataFrame\n",
      "\n",
      "See the caveats in the documentation: http://pandas.pydata.org/pandas-docs/stable/indexing.html#indexing-view-versus-copy\n",
      "  # This is added back by InteractiveShellApp.init_path()\n",
      "C:\\ProgramData\\Anaconda3\\lib\\site-packages\\ipykernel_launcher.py:15: SettingWithCopyWarning: \n",
      "A value is trying to be set on a copy of a slice from a DataFrame\n",
      "\n",
      "See the caveats in the documentation: http://pandas.pydata.org/pandas-docs/stable/indexing.html#indexing-view-versus-copy\n",
      "  from ipykernel import kernelapp as app\n",
      "C:\\ProgramData\\Anaconda3\\lib\\site-packages\\ipykernel_launcher.py:7: SettingWithCopyWarning: \n",
      "A value is trying to be set on a copy of a slice from a DataFrame\n",
      "\n",
      "See the caveats in the documentation: http://pandas.pydata.org/pandas-docs/stable/indexing.html#indexing-view-versus-copy\n",
      "  import sys\n",
      "C:\\ProgramData\\Anaconda3\\lib\\site-packages\\ipykernel_launcher.py:9: SettingWithCopyWarning: \n",
      "A value is trying to be set on a copy of a slice from a DataFrame\n",
      "\n",
      "See the caveats in the documentation: http://pandas.pydata.org/pandas-docs/stable/indexing.html#indexing-view-versus-copy\n",
      "  if __name__ == '__main__':\n",
      "C:\\ProgramData\\Anaconda3\\lib\\site-packages\\ipykernel_launcher.py:13: SettingWithCopyWarning: \n",
      "A value is trying to be set on a copy of a slice from a DataFrame\n",
      "\n",
      "See the caveats in the documentation: http://pandas.pydata.org/pandas-docs/stable/indexing.html#indexing-view-versus-copy\n",
      "  del sys.path[0]\n",
      "C:\\ProgramData\\Anaconda3\\lib\\site-packages\\ipykernel_launcher.py:17: SettingWithCopyWarning: \n",
      "A value is trying to be set on a copy of a slice from a DataFrame\n",
      "\n",
      "See the caveats in the documentation: http://pandas.pydata.org/pandas-docs/stable/indexing.html#indexing-view-versus-copy\n"
     ]
    }
   ],
   "source": [
    "talks[\"event_class\"] = \"Other\"\n",
    "#Loop over every talk and assign event category based on name of event\n",
    "for ii in range(len(talks)):\n",
    "    if talks['event'][ii].count('TED20') >0:\n",
    "        talks['event_class'][ii] = 'Yearly TED Conference'\n",
    "    elif talks['event'][ii].count('TED19') >0:\n",
    "        talks['event_class'][ii] = 'Yearly TED Conference'\n",
    "    elif talks['event'][ii].count('TEDx') >0:\n",
    "        talks['event_class'][ii] = 'TEDx'\n",
    "    elif talks['event'][ii].count('TEDGlobal') >0:\n",
    "        talks['event_class'][ii] = 'TEDGlobal'\n",
    "    elif talks['event'][ii].count('TEDWomen') >0:\n",
    "        talks['event_class'][ii] = 'TEDWomen'\n",
    "    if talks['event'][ii].count('TEDSalon') >0:\n",
    "        talks['event_class'][ii] = 'TEDSalon'\n",
    "    if talks['event'][ii].count('TEDNYC') >0:\n",
    "        talks['event_class'][ii] = 'TEDNYC'\n",
    "    else:\n",
    "        pass;"
   ]
  },
  {
   "cell_type": "code",
   "execution_count": 14,
   "metadata": {},
   "outputs": [
    {
     "data": {
      "text/plain": [
       "array(['Yearly TED Conference', 'TEDGlobal', 'TEDSalon', 'Other', 'TEDx',\n",
       "       'TEDWomen', 'TEDNYC'], dtype=object)"
      ]
     },
     "execution_count": 14,
     "metadata": {},
     "output_type": "execute_result"
    }
   ],
   "source": [
    "talks['event_class'].unique()"
   ]
  },
  {
   "cell_type": "code",
   "execution_count": 15,
   "metadata": {
    "collapsed": true
   },
   "outputs": [],
   "source": [
    "b = talks[\"event_class\"] == \"Yearly TED Conference\"\n",
    "talks[\"is_yearlyTedConference\"]= b.astype(int)\n",
    "\n",
    "b = talks[\"event_class\"] == \"TEDGlobal\"\n",
    "talks[\"is_TEDGlobal\"]= b.astype(int)\n",
    "\n",
    "b = talks[\"event_class\"] == \"TEDSalon\"\n",
    "talks[\"is_TEDSalon\"]= b.astype(int)\n",
    "\n",
    "b = talks[\"event_class\"] == \"Other\"\n",
    "talks[\"is_Other\"]= b.astype(int)\n",
    "\n",
    "b = talks[\"event_class\"] == \"TEDx\"\n",
    "talks[\"is_TEDx\"]= b.astype(int)\n",
    "\n",
    "b = talks[\"event_class\"] == \"TEDWomen\"\n",
    "talks[\"is_TEDWomen\"]= b.astype(int)\n",
    "\n",
    "b = talks[\"event_class\"] == \"TEDNYC\"\n",
    "talks[\"is_TEDNYC\"]= b.astype(int)"
   ]
  },
  {
   "cell_type": "code",
   "execution_count": 16,
   "metadata": {},
   "outputs": [
    {
     "data": {
      "text/html": [
       "<div>\n",
       "<style>\n",
       "    .dataframe thead tr:only-child th {\n",
       "        text-align: right;\n",
       "    }\n",
       "\n",
       "    .dataframe thead th {\n",
       "        text-align: left;\n",
       "    }\n",
       "\n",
       "    .dataframe tbody tr th {\n",
       "        vertical-align: top;\n",
       "    }\n",
       "</style>\n",
       "<table border=\"1\" class=\"dataframe\">\n",
       "  <thead>\n",
       "    <tr style=\"text-align: right;\">\n",
       "      <th></th>\n",
       "      <th>is_yearlyTedConference</th>\n",
       "      <th>is_TEDGlobal</th>\n",
       "      <th>is_TEDSalon</th>\n",
       "      <th>is_TEDx</th>\n",
       "      <th>is_TEDWomen</th>\n",
       "      <th>is_TEDNYC</th>\n",
       "      <th>is_Other</th>\n",
       "    </tr>\n",
       "  </thead>\n",
       "  <tbody>\n",
       "    <tr>\n",
       "      <th>count</th>\n",
       "      <td>2550.000000</td>\n",
       "      <td>2550.000000</td>\n",
       "      <td>2550.000000</td>\n",
       "      <td>2550.000000</td>\n",
       "      <td>2550.000000</td>\n",
       "      <td>2550.000000</td>\n",
       "      <td>2550.000000</td>\n",
       "    </tr>\n",
       "    <tr>\n",
       "      <th>mean</th>\n",
       "      <td>0.383529</td>\n",
       "      <td>0.181961</td>\n",
       "      <td>0.030980</td>\n",
       "      <td>0.184706</td>\n",
       "      <td>0.037647</td>\n",
       "      <td>0.007451</td>\n",
       "      <td>0.173725</td>\n",
       "    </tr>\n",
       "    <tr>\n",
       "      <th>std</th>\n",
       "      <td>0.486341</td>\n",
       "      <td>0.385888</td>\n",
       "      <td>0.173299</td>\n",
       "      <td>0.388135</td>\n",
       "      <td>0.190378</td>\n",
       "      <td>0.086014</td>\n",
       "      <td>0.378948</td>\n",
       "    </tr>\n",
       "    <tr>\n",
       "      <th>min</th>\n",
       "      <td>0.000000</td>\n",
       "      <td>0.000000</td>\n",
       "      <td>0.000000</td>\n",
       "      <td>0.000000</td>\n",
       "      <td>0.000000</td>\n",
       "      <td>0.000000</td>\n",
       "      <td>0.000000</td>\n",
       "    </tr>\n",
       "    <tr>\n",
       "      <th>25%</th>\n",
       "      <td>0.000000</td>\n",
       "      <td>0.000000</td>\n",
       "      <td>0.000000</td>\n",
       "      <td>0.000000</td>\n",
       "      <td>0.000000</td>\n",
       "      <td>0.000000</td>\n",
       "      <td>0.000000</td>\n",
       "    </tr>\n",
       "    <tr>\n",
       "      <th>50%</th>\n",
       "      <td>0.000000</td>\n",
       "      <td>0.000000</td>\n",
       "      <td>0.000000</td>\n",
       "      <td>0.000000</td>\n",
       "      <td>0.000000</td>\n",
       "      <td>0.000000</td>\n",
       "      <td>0.000000</td>\n",
       "    </tr>\n",
       "    <tr>\n",
       "      <th>75%</th>\n",
       "      <td>1.000000</td>\n",
       "      <td>0.000000</td>\n",
       "      <td>0.000000</td>\n",
       "      <td>0.000000</td>\n",
       "      <td>0.000000</td>\n",
       "      <td>0.000000</td>\n",
       "      <td>0.000000</td>\n",
       "    </tr>\n",
       "    <tr>\n",
       "      <th>max</th>\n",
       "      <td>1.000000</td>\n",
       "      <td>1.000000</td>\n",
       "      <td>1.000000</td>\n",
       "      <td>1.000000</td>\n",
       "      <td>1.000000</td>\n",
       "      <td>1.000000</td>\n",
       "      <td>1.000000</td>\n",
       "    </tr>\n",
       "  </tbody>\n",
       "</table>\n",
       "</div>"
      ],
      "text/plain": [
       "       is_yearlyTedConference  is_TEDGlobal  is_TEDSalon      is_TEDx  \\\n",
       "count             2550.000000   2550.000000  2550.000000  2550.000000   \n",
       "mean                 0.383529      0.181961     0.030980     0.184706   \n",
       "std                  0.486341      0.385888     0.173299     0.388135   \n",
       "min                  0.000000      0.000000     0.000000     0.000000   \n",
       "25%                  0.000000      0.000000     0.000000     0.000000   \n",
       "50%                  0.000000      0.000000     0.000000     0.000000   \n",
       "75%                  1.000000      0.000000     0.000000     0.000000   \n",
       "max                  1.000000      1.000000     1.000000     1.000000   \n",
       "\n",
       "       is_TEDWomen    is_TEDNYC     is_Other  \n",
       "count  2550.000000  2550.000000  2550.000000  \n",
       "mean      0.037647     0.007451     0.173725  \n",
       "std       0.190378     0.086014     0.378948  \n",
       "min       0.000000     0.000000     0.000000  \n",
       "25%       0.000000     0.000000     0.000000  \n",
       "50%       0.000000     0.000000     0.000000  \n",
       "75%       0.000000     0.000000     0.000000  \n",
       "max       1.000000     1.000000     1.000000  "
      ]
     },
     "execution_count": 16,
     "metadata": {},
     "output_type": "execute_result"
    }
   ],
   "source": [
    "talks[[\"is_yearlyTedConference\", \"is_TEDGlobal\",\"is_TEDSalon\", \"is_TEDx\", \"is_TEDWomen\", \"is_TEDNYC\", \"is_Other\" ]].describe()"
   ]
  },
  {
   "cell_type": "markdown",
   "metadata": {},
   "source": [
    "- 38.88% TedX\n",
    "- 38.35% Yearly Ted Conference\n",
    "- 18.19% TEDGlobal\n",
    "- 3% TEDSalon\n",
    "- 3% TedWomen\n",
    "- 1.67% Other\n",
    "- 0.6% TEDNYC"
   ]
  },
  {
   "cell_type": "markdown",
   "metadata": {},
   "source": [
    "**Top Tags** <br>\n",
    "Tags provide us a high level overview of what the TED talk is about. We picked the top 10 tags with the most views. This will help asses if a video is a popular idea in the TED community."
   ]
  },
  {
   "cell_type": "code",
   "execution_count": 17,
   "metadata": {},
   "outputs": [
    {
     "data": {
      "text/plain": [
       "['culture',\n",
       " 'technology',\n",
       " 'science',\n",
       " 'business',\n",
       " 'TEDx',\n",
       " 'global issues',\n",
       " 'entertainment',\n",
       " 'design',\n",
       " 'psychology',\n",
       " 'brain']"
      ]
     },
     "execution_count": 17,
     "metadata": {},
     "output_type": "execute_result"
    }
   ],
   "source": [
    "# Top Tags\n",
    "def build_tag_dict(data):\n",
    "    tag_dict = defaultdict(int)\n",
    "    for talk_idx in range(len(data)):\n",
    "        tag_lst = ast.literal_eval(data['tags'][talk_idx])\n",
    "        for tag in tag_lst:\n",
    "            tag_dict[tag] += data[\"views\"][talk_idx]\n",
    "    tag_count = Counter(tag_dict)\n",
    "    return [tup[0] for tup in tag_count.most_common(10)]\n",
    "\n",
    "top_tags = build_tag_dict(talks)\n",
    "top_tags"
   ]
  },
  {
   "cell_type": "code",
   "execution_count": 18,
   "metadata": {},
   "outputs": [],
   "source": [
    "def tags_conversion(data):\n",
    "    rows = data.shape[0]\n",
    "    tags_mtx = np.zeros((rows, 10))\n",
    "    for talk_idx in range(len(data)):\n",
    "        tag_lst = ast.literal_eval(data['tags'][talk_idx])\n",
    "        for tag_ind in range(len(top_tags)):\n",
    "            top_tag = top_tags[tag_ind]\n",
    "            if top_tag in tag_lst:\n",
    "                tags_mtx[talk_idx,tag_ind] = 1\n",
    "    df = pd.DataFrame(tags_mtx, columns=top_tags)\n",
    "    return df"
   ]
  },
  {
   "cell_type": "code",
   "execution_count": 19,
   "metadata": {},
   "outputs": [],
   "source": [
    "tags_data = tags_conversion(talks)\n",
    "talks[[\"is_culture\", \"is_technology\", \"is_science\", \"is_business\", \"is_TEDx\", \"is_globalIssues\", \"is_entertainment\", \"is_design\", \"is_psychology\", \"is_brain\"]] = tags_data"
   ]
  },
  {
   "cell_type": "code",
   "execution_count": 20,
   "metadata": {},
   "outputs": [
    {
     "data": {
      "text/plain": [
       "Index(['comments', 'description', 'duration', 'event', 'film_date',\n",
       "       'languages', 'main_speaker', 'name', 'num_speaker', 'published_date',\n",
       "       'ratings', 'related_talks', 'tags', 'title', 'views', 'titleLength',\n",
       "       'numTags', 'descLength', 'Funny', 'Beautiful', 'Ingenious',\n",
       "       'Courageous', 'Longwinded', 'Confusing', 'Informative', 'Fascinating',\n",
       "       'Unconvincing', 'Persuasive', 'Jaw-dropping', 'OK', 'Obnoxious',\n",
       "       'Inspiring', 'Positive', 'Moderate', 'Negative', 'event_class',\n",
       "       'is_yearlyTedConference', 'is_TEDGlobal', 'is_TEDSalon', 'is_Other',\n",
       "       'is_TEDx', 'is_TEDWomen', 'is_TEDNYC', 'is_culture', 'is_technology',\n",
       "       'is_science', 'is_business', 'is_globalIssues', 'is_entertainment',\n",
       "       'is_design', 'is_psychology', 'is_brain'],\n",
       "      dtype='object')"
      ]
     },
     "execution_count": 20,
     "metadata": {},
     "output_type": "execute_result"
    }
   ],
   "source": [
    "talks.columns"
   ]
  },
  {
   "cell_type": "markdown",
   "metadata": {},
   "source": [
    "<h3> Build Correlation Matrix </h3>"
   ]
  },
  {
   "cell_type": "code",
   "execution_count": 135,
   "metadata": {
    "collapsed": true
   },
   "outputs": [],
   "source": [
    "talksC = talks.select_dtypes(include=[np.number])\n",
    "talksC = talksC.drop([\"Positive\", \"Moderate\", \"Negative\"], axis = 1)"
   ]
  },
  {
   "cell_type": "code",
   "execution_count": 136,
   "metadata": {},
   "outputs": [
    {
     "data": {
      "text/plain": [
       "<matplotlib.axes._subplots.AxesSubplot at 0x110c5e3c8>"
      ]
     },
     "execution_count": 136,
     "metadata": {},
     "output_type": "execute_result"
    },
    {
     "data": {
      "image/png": "[encoded data removed]",
      "text/plain": [
       "<matplotlib.figure.Figure at 0x110c66c88>"
      ]
     },
     "metadata": {},
     "output_type": "display_data"
    }
   ],
   "source": [
    "# Unnormalized\n",
    "corr = talksC.corr();\n",
    "sns.heatmap(corr, \n",
    "        xticklabels=corr.columns,\n",
    "        yticklabels=corr.columns, cmap = \"plasma\")"
   ]
  },
  {
   "cell_type": "code",
   "execution_count": 139,
   "metadata": {},
   "outputs": [
    {
     "data": {
      "text/plain": [
       "<matplotlib.axes._subplots.AxesSubplot at 0x1113ada20>"
      ]
     },
     "execution_count": 139,
     "metadata": {},
     "output_type": "execute_result"
    },
    {
     "data": {
      "image/png": "[encoded data removed]",
      "text/plain": [
       "<matplotlib.figure.Figure at 0x111559588>"
      ]
     },
     "metadata": {},
     "output_type": "display_data"
    }
   ],
   "source": [
    "# REMOVE RATINGS\n",
    "talksC = talks.select_dtypes(include=[np.number])\n",
    "talksC = talksC.drop(['Funny', 'Beautiful', 'Ingenious', 'Courageous', 'Longwinded', 'Confusing',\n",
    "           'Informative', 'Fascinating', 'Unconvincing', 'Persuasive', 'Jaw-dropping', 'OK',\n",
    "           'Obnoxious', 'Inspiring'], axis = 1)\n",
    "# Unnormalized\n",
    "corr = talksC.corr();\n",
    "sns.heatmap(corr, \n",
    "        xticklabels=corr.columns,\n",
    "        yticklabels=corr.columns, cmap = \"plasma\")"
   ]
  },
  {
   "cell_type": "code",
   "execution_count": 21,
   "metadata": {},
   "outputs": [],
   "source": [
    "talks.to_csv(\"TedTalksNewFeatures.csv\")"
   ]
  },
  {
   "cell_type": "markdown",
   "metadata": {},
   "source": [
    "<hr>"
   ]
  },
  {
   "cell_type": "code",
   "execution_count": 92,
   "metadata": {
    "collapsed": true
   },
   "outputs": [],
   "source": [
    "\n",
    "\n",
    "# Split data into different \"popularity ranks\"\n",
    "rank1 = talks[talks[\"views\"] > 10000000]  # 10 million views plus\n",
    "rank2 = talks[(talks[\"views\"] <= 10000000) & (talks[\"views\"] > 500000)]  # 5mill - 10mil\n",
    "rank3 = talks[(talks[\"views\"] <= 500000) & (talks[\"views\"] > 100000)]  # 1mill - 5mil\n",
    "rank4 = talks[(talks[\"views\"] <= 100000) ]  # Under 1 mil\n",
    "ranked = [rank1, rank2, rank3, rank4]"
   ]
  },
  {
   "cell_type": "code",
   "execution_count": 56,
   "metadata": {},
   "outputs": [
    {
     "name": "stdout",
     "output_type": "stream",
     "text": [
      "Popularity Class, Average Views \n",
      "1 17956545.7059\n",
      "2 768292.934896\n",
      "3 356883.804348\n",
      "4 66533.0\n"
     ]
    }
   ],
   "source": [
    "r = 0;\n",
    "print(\"Popularity Class, Average Views \")\n",
    "for i in ranked:\n",
    "    r += 1\n",
    "    print(r, np.mean(i[\"views\"]))"
   ]
  },
  {
   "cell_type": "code",
   "execution_count": 57,
   "metadata": {},
   "outputs": [
    {
     "name": "stdout",
     "output_type": "stream",
     "text": [
      "Popularity Class, Average Comments\n",
      "1 996.882352941\n",
      "2 118.005208333\n",
      "3 90.3369565217\n",
      "4 35.3333333333\n"
     ]
    }
   ],
   "source": [
    "r = 0;\n",
    "print(\"Popularity Class, Average Comments\")\n",
    "for i in ranked:\n",
    "    r += 1\n",
    "    print(r, np.mean(i[\"comments\"]))"
   ]
  },
  {
   "cell_type": "code",
   "execution_count": 58,
   "metadata": {},
   "outputs": [
    {
     "name": "stdout",
     "output_type": "stream",
     "text": [
      "Popularity Class, Average number languages translated to \n",
      "1 43.4705882353\n",
      "2 24.7330729167\n",
      "3 18.9673913043\n",
      "4 0.0\n"
     ]
    }
   ],
   "source": [
    "r = 0;\n",
    "print(\"Popularity Class, Average number languages translated to \")\n",
    "for i in ranked:\n",
    "    r += 1\n",
    "    print(r, np.mean(i[\"languages\"]))"
   ]
  },
  {
   "cell_type": "code",
   "execution_count": 59,
   "metadata": {},
   "outputs": [
    {
     "name": "stdout",
     "output_type": "stream",
     "text": [
      "Popularity Class, Duration\n",
      "1 963.264705882\n",
      "2 830.21875\n",
      "3 825.018115942\n",
      "4 1591.66666667\n"
     ]
    }
   ],
   "source": [
    "r = 0;\n",
    "print(\"Popularity Class, Duration\")\n",
    "for i in ranked:\n",
    "    r += 1\n",
    "    print(r, np.mean(i[\"duration\"]))"
   ]
  },
  {
   "cell_type": "code",
   "execution_count": 60,
   "metadata": {},
   "outputs": [
    {
     "name": "stdout",
     "output_type": "stream",
     "text": [
      "Popularity Class, Title Length\n",
      "1 32.4705882353\n",
      "2 34.69140625\n",
      "3 29.9094202899\n",
      "4 21.3333333333\n"
     ]
    }
   ],
   "source": [
    "r = 0;\n",
    "print(\"Popularity Class, Title Length\")\n",
    "for i in ranked:\n",
    "    r += 1\n",
    "    print(r, np.mean(i[\"titleLength\"]))"
   ]
  },
  {
   "cell_type": "code",
   "execution_count": 118,
   "metadata": {},
   "outputs": [
    {
     "name": "stdout",
     "output_type": "stream",
     "text": [
      "Popularity Class, Number of Tags\n",
      "1 6.32352941176\n",
      "2 7.51692708333\n",
      "3 6.6884057971\n",
      "4 5.0\n"
     ]
    }
   ],
   "source": [
    "r = 0;\n",
    "print(\"Popularity Class, Number of Tags\")\n",
    "for i in ranked:\n",
    "    r += 1\n",
    "    print(r, np.mean(i[\"numTags\"]))"
   ]
  },
  {
   "cell_type": "code",
   "execution_count": 105,
   "metadata": {},
   "outputs": [],
   "source": [
    "corr = talks.corr();"
   ]
  },
  {
   "cell_type": "code",
   "execution_count": 88,
   "metadata": {},
   "outputs": [
    {
     "data": {
      "text/plain": [
       "<matplotlib.axes._subplots.AxesSubplot at 0x10c21c8d0>"
      ]
     },
     "execution_count": 88,
     "metadata": {},
     "output_type": "execute_result"
    },
    {
     "data": {
      "image/png": "[encoded data removed]",
      "text/plain": [
       "<matplotlib.figure.Figure at 0x10bffe6a0>"
      ]
     },
     "metadata": {},
     "output_type": "display_data"
    }
   ],
   "source": [
    "sns.heatmap(corr, \n",
    "        xticklabels=corr.columns,\n",
    "        yticklabels=corr.columns, cmap = \"plasma\")"
   ]
  },
  {
   "cell_type": "code",
   "execution_count": null,
   "metadata": {
    "collapsed": true
   },
   "outputs": [],
   "source": []
  },
  {
   "cell_type": "code",
   "execution_count": 104,
   "metadata": {},
   "outputs": [
    {
     "name": "stderr",
     "output_type": "stream",
     "text": [
      "/Library/Frameworks/Python.framework/Versions/3.4/lib/python3.4/site-packages/ipykernel/__main__.py:3: SettingWithCopyWarning: \n",
      "A value is trying to be set on a copy of a slice from a DataFrame.\n",
      "Try using .loc[row_indexer,col_indexer] = value instead\n",
      "\n",
      "See the caveats in the documentation: http://pandas.pydata.org/pandas-docs/stable/indexing.html#indexing-view-versus-copy\n",
      "  app.launch_new_instance()\n",
      "/Library/Frameworks/Python.framework/Versions/3.4/lib/python3.4/site-packages/pandas/core/indexing.py:517: SettingWithCopyWarning: \n",
      "A value is trying to be set on a copy of a slice from a DataFrame.\n",
      "Try using .loc[row_indexer,col_indexer] = value instead\n",
      "\n",
      "See the caveats in the documentation: http://pandas.pydata.org/pandas-docs/stable/indexing.html#indexing-view-versus-copy\n",
      "  self.obj[item] = s\n"
     ]
    },
    {
     "data": {
      "text/plain": [
       "<matplotlib.axes._subplots.AxesSubplot at 0x10f0d8400>"
      ]
     },
     "execution_count": 104,
     "metadata": {},
     "output_type": "execute_result"
    },
    {
     "data": {
      "image/png": "[encoded data removed]",
      "text/plain": [
       "<matplotlib.figure.Figure at 0x10f0384a8>"
      ]
     },
     "metadata": {},
     "output_type": "display_data"
    }
   ],
   "source": [
    "data_corr = talks[[\"comments\", \"duration\", \"languages\", \"num_speaker\", \"titleLength\", \"Positive\", \"Moderate\", \"Negative\",\"is_yearlyTedConference\", \"is_TEDGlobal\",\"is_TEDSalon\", \"is_TEDx\", \"is_TEDWomen\", \"is_TEDNYC\", \"is_Other\" ]]\n",
    "n = normalize(data_corr)\n",
    "data_corr[[\"comments\", \"duration\", \"languages\", \"num_speaker\", \"titleLength\", \"Positive\", \"Moderate\", \"Negative\",\"is_yearlyTedConference\", \"is_TEDGlobal\",\"is_TEDSalon\", \"is_TEDx\", \"is_TEDWomen\", \"is_TEDNYC\", \"is_Other\" ]] = n\n",
    "corr = data_corr.corr();\n",
    "sns.heatmap(corr, \n",
    "        xticklabels=corr.columns,\n",
    "        yticklabels=corr.columns, cmap = \"plasma\")"
   ]
  },
  {
   "cell_type": "code",
   "execution_count": 101,
   "metadata": {},
   "outputs": [
    {
     "data": {
      "text/plain": [
       "array([[  5.98176956e-02,   1.52927296e-02,   7.88285029e-04, ...,\n",
       "          0.00000000e+00,   0.00000000e+00,   0.00000000e+00],\n",
       "       [  1.27696534e-01,   4.70790618e-01,   2.07205697e-02, ...,\n",
       "          0.00000000e+00,   0.00000000e+00,   0.00000000e+00],\n",
       "       [  5.39408266e-02,   5.59418573e-01,   1.13101733e-02, ...,\n",
       "          0.00000000e+00,   0.00000000e+00,   0.00000000e+00],\n",
       "       ..., \n",
       "       [  1.51273813e-02,   9.84792522e-01,   1.51273813e-03, ...,\n",
       "          0.00000000e+00,   0.00000000e+00,   0.00000000e+00],\n",
       "       [  2.69343667e-02,   9.25868854e-01,   8.41698958e-04, ...,\n",
       "          0.00000000e+00,   0.00000000e+00,   0.00000000e+00],\n",
       "       [  1.51436407e-02,   9.82443694e-01,   1.89295509e-03, ...,\n",
       "          0.00000000e+00,   0.00000000e+00,   0.00000000e+00]])"
      ]
     },
     "execution_count": 101,
     "metadata": {},
     "output_type": "execute_result"
    }
   ],
   "source": [
    "data_corr"
   ]
  },
  {
   "cell_type": "code",
   "execution_count": null,
   "metadata": {
    "collapsed": true
   },
   "outputs": [],
   "source": [
    "# Size of audience tedX\n",
    "# Group details\n",
    "# Positive, Negative and Moderate\n",
    "# Occupation group\n",
    "# Published Date"
   ]
  }
 ],
 "metadata": {
  "kernelspec": {
   "display_name": "Python 3",
   "language": "python",
   "name": "python3"
  },
  "language_info": {
   "codemirror_mode": {
    "name": "ipython",
    "version": 3
   },
   "file_extension": ".py",
   "mimetype": "text/x-python",
   "name": "python",
   "nbconvert_exporter": "python",
   "pygments_lexer": "ipython3",
   "version": "3.6.1"
  }
 },
 "nbformat": 4,
 "nbformat_minor": 2
}
