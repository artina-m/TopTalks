{
 "cells": [
  {
   "cell_type": "code",
   "execution_count": 185,
   "metadata": {},
   "outputs": [],
   "source": [
    "import numpy as np\n",
    "import pandas as pd\n",
    "import matplotlib.pyplot as plt\n",
    "%matplotlib inline\n",
    "import seaborn as sns\n",
    "from sklearn.model_selection import train_test_split\n",
    "from sklearn.ensemble import RandomForestRegressor\n",
    "from sklearn.grid_search import GridSearchCV\n",
    "from imblearn.over_sampling import SMOTE\n",
    "from itertools import combinations\n",
    "from itertools import product\n",
    "from sklearn.metrics import mean_squared_error"
   ]
  },
  {
   "cell_type": "code",
   "execution_count": 186,
   "metadata": {},
   "outputs": [
    {
     "data": {
      "text/html": [
       "<div>\n",
       "<style>\n",
       "    .dataframe thead tr:only-child th {\n",
       "        text-align: right;\n",
       "    }\n",
       "\n",
       "    .dataframe thead th {\n",
       "        text-align: left;\n",
       "    }\n",
       "\n",
       "    .dataframe tbody tr th {\n",
       "        vertical-align: top;\n",
       "    }\n",
       "</style>\n",
       "<table border=\"1\" class=\"dataframe\">\n",
       "  <thead>\n",
       "    <tr style=\"text-align: right;\">\n",
       "      <th></th>\n",
       "      <th>comments</th>\n",
       "      <th>duration</th>\n",
       "      <th>film_date</th>\n",
       "      <th>languages</th>\n",
       "      <th>main_speaker</th>\n",
       "      <th>num_speaker</th>\n",
       "      <th>published_date</th>\n",
       "      <th>speaker_occupation</th>\n",
       "      <th>title</th>\n",
       "      <th>views</th>\n",
       "      <th>...</th>\n",
       "      <th>Inspiring</th>\n",
       "      <th>Longwinded</th>\n",
       "      <th>Unconvincing</th>\n",
       "      <th>Fascinating</th>\n",
       "      <th>Jaw-dropping</th>\n",
       "      <th>Persuasive</th>\n",
       "      <th>OK</th>\n",
       "      <th>Obnoxious</th>\n",
       "      <th>Title_Length</th>\n",
       "      <th>Number_Question_marks</th>\n",
       "    </tr>\n",
       "  </thead>\n",
       "  <tbody>\n",
       "    <tr>\n",
       "      <th>0</th>\n",
       "      <td>4553</td>\n",
       "      <td>1164</td>\n",
       "      <td>1140825600</td>\n",
       "      <td>60</td>\n",
       "      <td>Ken Robinson</td>\n",
       "      <td>1</td>\n",
       "      <td>1151367060</td>\n",
       "      <td>Author/educator</td>\n",
       "      <td>Do schools kill creativity?</td>\n",
       "      <td>47227110</td>\n",
       "      <td>...</td>\n",
       "      <td>0.265573</td>\n",
       "      <td>0.004124</td>\n",
       "      <td>0.003197</td>\n",
       "      <td>0.112744</td>\n",
       "      <td>0.047299</td>\n",
       "      <td>0.114054</td>\n",
       "      <td>0.012509</td>\n",
       "      <td>0.002227</td>\n",
       "      <td>4</td>\n",
       "      <td>0</td>\n",
       "    </tr>\n",
       "    <tr>\n",
       "      <th>1</th>\n",
       "      <td>265</td>\n",
       "      <td>977</td>\n",
       "      <td>1140825600</td>\n",
       "      <td>43</td>\n",
       "      <td>Al Gore</td>\n",
       "      <td>1</td>\n",
       "      <td>1151367060</td>\n",
       "      <td>Climate advocate</td>\n",
       "      <td>Averting the climate crisis</td>\n",
       "      <td>3200520</td>\n",
       "      <td>...</td>\n",
       "      <td>0.140668</td>\n",
       "      <td>0.038488</td>\n",
       "      <td>0.087875</td>\n",
       "      <td>0.044959</td>\n",
       "      <td>0.039510</td>\n",
       "      <td>0.091281</td>\n",
       "      <td>0.069142</td>\n",
       "      <td>0.044619</td>\n",
       "      <td>4</td>\n",
       "      <td>0</td>\n",
       "    </tr>\n",
       "    <tr>\n",
       "      <th>2</th>\n",
       "      <td>124</td>\n",
       "      <td>1286</td>\n",
       "      <td>1140739200</td>\n",
       "      <td>26</td>\n",
       "      <td>David Pogue</td>\n",
       "      <td>1</td>\n",
       "      <td>1151367060</td>\n",
       "      <td>Technology columnist</td>\n",
       "      <td>Simplicity sells</td>\n",
       "      <td>1636292</td>\n",
       "      <td>...</td>\n",
       "      <td>0.081445</td>\n",
       "      <td>0.027620</td>\n",
       "      <td>0.036827</td>\n",
       "      <td>0.058782</td>\n",
       "      <td>0.019122</td>\n",
       "      <td>0.081445</td>\n",
       "      <td>0.051700</td>\n",
       "      <td>0.050283</td>\n",
       "      <td>2</td>\n",
       "      <td>0</td>\n",
       "    </tr>\n",
       "    <tr>\n",
       "      <th>3</th>\n",
       "      <td>200</td>\n",
       "      <td>1116</td>\n",
       "      <td>1140912000</td>\n",
       "      <td>35</td>\n",
       "      <td>Majora Carter</td>\n",
       "      <td>1</td>\n",
       "      <td>1151367060</td>\n",
       "      <td>Activist for environmental justice</td>\n",
       "      <td>Greening the ghetto</td>\n",
       "      <td>1697550</td>\n",
       "      <td>...</td>\n",
       "      <td>0.287017</td>\n",
       "      <td>0.014217</td>\n",
       "      <td>0.009657</td>\n",
       "      <td>0.035408</td>\n",
       "      <td>0.061695</td>\n",
       "      <td>0.123391</td>\n",
       "      <td>0.022800</td>\n",
       "      <td>0.009388</td>\n",
       "      <td>3</td>\n",
       "      <td>0</td>\n",
       "    </tr>\n",
       "    <tr>\n",
       "      <th>4</th>\n",
       "      <td>593</td>\n",
       "      <td>1190</td>\n",
       "      <td>1140566400</td>\n",
       "      <td>48</td>\n",
       "      <td>Hans Rosling</td>\n",
       "      <td>1</td>\n",
       "      <td>1151440680</td>\n",
       "      <td>Global health expert; data visionary</td>\n",
       "      <td>The best stats you've ever seen</td>\n",
       "      <td>12005869</td>\n",
       "      <td>...</td>\n",
       "      <td>0.112920</td>\n",
       "      <td>0.004294</td>\n",
       "      <td>0.002615</td>\n",
       "      <td>0.179781</td>\n",
       "      <td>0.145824</td>\n",
       "      <td>0.099219</td>\n",
       "      <td>0.009680</td>\n",
       "      <td>0.002381</td>\n",
       "      <td>6</td>\n",
       "      <td>0</td>\n",
       "    </tr>\n",
       "  </tbody>\n",
       "</table>\n",
       "<p>5 rows × 26 columns</p>\n",
       "</div>"
      ],
      "text/plain": [
       "   comments  duration   film_date  languages   main_speaker  num_speaker  \\\n",
       "0      4553      1164  1140825600         60   Ken Robinson            1   \n",
       "1       265       977  1140825600         43        Al Gore            1   \n",
       "2       124      1286  1140739200         26    David Pogue            1   \n",
       "3       200      1116  1140912000         35  Majora Carter            1   \n",
       "4       593      1190  1140566400         48   Hans Rosling            1   \n",
       "\n",
       "   published_date                    speaker_occupation  \\\n",
       "0      1151367060                       Author/educator   \n",
       "1      1151367060                      Climate advocate   \n",
       "2      1151367060                  Technology columnist   \n",
       "3      1151367060    Activist for environmental justice   \n",
       "4      1151440680  Global health expert; data visionary   \n",
       "\n",
       "                             title     views          ...            \\\n",
       "0      Do schools kill creativity?  47227110          ...             \n",
       "1      Averting the climate crisis   3200520          ...             \n",
       "2                 Simplicity sells   1636292          ...             \n",
       "3              Greening the ghetto   1697550          ...             \n",
       "4  The best stats you've ever seen  12005869          ...             \n",
       "\n",
       "   Inspiring  Longwinded  Unconvincing  Fascinating  Jaw-dropping  Persuasive  \\\n",
       "0   0.265573    0.004124      0.003197     0.112744      0.047299    0.114054   \n",
       "1   0.140668    0.038488      0.087875     0.044959      0.039510    0.091281   \n",
       "2   0.081445    0.027620      0.036827     0.058782      0.019122    0.081445   \n",
       "3   0.287017    0.014217      0.009657     0.035408      0.061695    0.123391   \n",
       "4   0.112920    0.004294      0.002615     0.179781      0.145824    0.099219   \n",
       "\n",
       "         OK  Obnoxious  Title_Length  Number_Question_marks  \n",
       "0  0.012509   0.002227             4                      0  \n",
       "1  0.069142   0.044619             4                      0  \n",
       "2  0.051700   0.050283             2                      0  \n",
       "3  0.022800   0.009388             3                      0  \n",
       "4  0.009680   0.002381             6                      0  \n",
       "\n",
       "[5 rows x 26 columns]"
      ]
     },
     "execution_count": 186,
     "metadata": {},
     "output_type": "execute_result"
    }
   ],
   "source": [
    "data = pd.read_csv('clean_ted_ratings.csv', encoding='latin1')\n",
    "data.head()"
   ]
  },
  {
   "cell_type": "code",
   "execution_count": 187,
   "metadata": {
    "collapsed": true
   },
   "outputs": [],
   "source": [
    "data = data.drop('main_speaker', axis = 1)\n",
    "data = data.drop('speaker_occupation', axis=1)\n",
    "data = data.drop('title', axis=1)"
   ]
  },
  {
   "cell_type": "code",
   "execution_count": 188,
   "metadata": {
    "collapsed": true
   },
   "outputs": [],
   "source": [
    "def get_ranking(views):\n",
    "    if views > 10000000: return 'rank1'\n",
    "    elif 5000000 < views <= 10000000: return 'rank2'\n",
    "    elif 1000000 < views <= 5000000: return 'rank3'\n",
    "    else: return 'rank4'\n",
    "    \n",
    "data['rank'] = data['views'].apply(get_ranking)"
   ]
  },
  {
   "cell_type": "code",
   "execution_count": 189,
   "metadata": {},
   "outputs": [
    {
     "data": {
      "text/html": [
       "<div>\n",
       "<style>\n",
       "    .dataframe thead tr:only-child th {\n",
       "        text-align: right;\n",
       "    }\n",
       "\n",
       "    .dataframe thead th {\n",
       "        text-align: left;\n",
       "    }\n",
       "\n",
       "    .dataframe tbody tr th {\n",
       "        vertical-align: top;\n",
       "    }\n",
       "</style>\n",
       "<table border=\"1\" class=\"dataframe\">\n",
       "  <thead>\n",
       "    <tr style=\"text-align: right;\">\n",
       "      <th></th>\n",
       "      <th>comments</th>\n",
       "      <th>duration</th>\n",
       "      <th>film_date</th>\n",
       "      <th>languages</th>\n",
       "      <th>num_speaker</th>\n",
       "      <th>published_date</th>\n",
       "      <th>views</th>\n",
       "      <th>Beautiful</th>\n",
       "      <th>Confusing</th>\n",
       "      <th>Courageous</th>\n",
       "      <th>...</th>\n",
       "      <th>Longwinded</th>\n",
       "      <th>Unconvincing</th>\n",
       "      <th>Fascinating</th>\n",
       "      <th>Jaw-dropping</th>\n",
       "      <th>Persuasive</th>\n",
       "      <th>OK</th>\n",
       "      <th>Obnoxious</th>\n",
       "      <th>Title_Length</th>\n",
       "      <th>Number_Question_marks</th>\n",
       "      <th>rank</th>\n",
       "    </tr>\n",
       "  </thead>\n",
       "  <tbody>\n",
       "    <tr>\n",
       "      <th>0</th>\n",
       "      <td>4553</td>\n",
       "      <td>1164</td>\n",
       "      <td>1140825600</td>\n",
       "      <td>60</td>\n",
       "      <td>1</td>\n",
       "      <td>1151367060</td>\n",
       "      <td>47227110</td>\n",
       "      <td>0.048727</td>\n",
       "      <td>0.002579</td>\n",
       "      <td>0.034662</td>\n",
       "      <td>...</td>\n",
       "      <td>0.004124</td>\n",
       "      <td>0.003197</td>\n",
       "      <td>0.112744</td>\n",
       "      <td>0.047299</td>\n",
       "      <td>0.114054</td>\n",
       "      <td>0.012509</td>\n",
       "      <td>0.002227</td>\n",
       "      <td>4</td>\n",
       "      <td>0</td>\n",
       "      <td>rank1</td>\n",
       "    </tr>\n",
       "    <tr>\n",
       "      <th>1</th>\n",
       "      <td>265</td>\n",
       "      <td>977</td>\n",
       "      <td>1140825600</td>\n",
       "      <td>43</td>\n",
       "      <td>1</td>\n",
       "      <td>1151367060</td>\n",
       "      <td>3200520</td>\n",
       "      <td>0.019755</td>\n",
       "      <td>0.021117</td>\n",
       "      <td>0.047343</td>\n",
       "      <td>...</td>\n",
       "      <td>0.038488</td>\n",
       "      <td>0.087875</td>\n",
       "      <td>0.044959</td>\n",
       "      <td>0.039510</td>\n",
       "      <td>0.091281</td>\n",
       "      <td>0.069142</td>\n",
       "      <td>0.044619</td>\n",
       "      <td>4</td>\n",
       "      <td>0</td>\n",
       "      <td>rank3</td>\n",
       "    </tr>\n",
       "    <tr>\n",
       "      <th>2</th>\n",
       "      <td>124</td>\n",
       "      <td>1286</td>\n",
       "      <td>1140739200</td>\n",
       "      <td>26</td>\n",
       "      <td>1</td>\n",
       "      <td>1151367060</td>\n",
       "      <td>1636292</td>\n",
       "      <td>0.021246</td>\n",
       "      <td>0.009561</td>\n",
       "      <td>0.015935</td>\n",
       "      <td>...</td>\n",
       "      <td>0.027620</td>\n",
       "      <td>0.036827</td>\n",
       "      <td>0.058782</td>\n",
       "      <td>0.019122</td>\n",
       "      <td>0.081445</td>\n",
       "      <td>0.051700</td>\n",
       "      <td>0.050283</td>\n",
       "      <td>2</td>\n",
       "      <td>0</td>\n",
       "      <td>rank3</td>\n",
       "    </tr>\n",
       "    <tr>\n",
       "      <th>3</th>\n",
       "      <td>200</td>\n",
       "      <td>1116</td>\n",
       "      <td>1140912000</td>\n",
       "      <td>35</td>\n",
       "      <td>1</td>\n",
       "      <td>1151367060</td>\n",
       "      <td>1697550</td>\n",
       "      <td>0.078058</td>\n",
       "      <td>0.008584</td>\n",
       "      <td>0.203863</td>\n",
       "      <td>...</td>\n",
       "      <td>0.014217</td>\n",
       "      <td>0.009657</td>\n",
       "      <td>0.035408</td>\n",
       "      <td>0.061695</td>\n",
       "      <td>0.123391</td>\n",
       "      <td>0.022800</td>\n",
       "      <td>0.009388</td>\n",
       "      <td>3</td>\n",
       "      <td>0</td>\n",
       "      <td>rank3</td>\n",
       "    </tr>\n",
       "    <tr>\n",
       "      <th>4</th>\n",
       "      <td>593</td>\n",
       "      <td>1190</td>\n",
       "      <td>1140566400</td>\n",
       "      <td>48</td>\n",
       "      <td>1</td>\n",
       "      <td>1151440680</td>\n",
       "      <td>12005869</td>\n",
       "      <td>0.036768</td>\n",
       "      <td>0.002810</td>\n",
       "      <td>0.012412</td>\n",
       "      <td>...</td>\n",
       "      <td>0.004294</td>\n",
       "      <td>0.002615</td>\n",
       "      <td>0.179781</td>\n",
       "      <td>0.145824</td>\n",
       "      <td>0.099219</td>\n",
       "      <td>0.009680</td>\n",
       "      <td>0.002381</td>\n",
       "      <td>6</td>\n",
       "      <td>0</td>\n",
       "      <td>rank1</td>\n",
       "    </tr>\n",
       "  </tbody>\n",
       "</table>\n",
       "<p>5 rows × 24 columns</p>\n",
       "</div>"
      ],
      "text/plain": [
       "   comments  duration   film_date  languages  num_speaker  published_date  \\\n",
       "0      4553      1164  1140825600         60            1      1151367060   \n",
       "1       265       977  1140825600         43            1      1151367060   \n",
       "2       124      1286  1140739200         26            1      1151367060   \n",
       "3       200      1116  1140912000         35            1      1151367060   \n",
       "4       593      1190  1140566400         48            1      1151440680   \n",
       "\n",
       "      views  Beautiful  Confusing  Courageous  ...    Longwinded  \\\n",
       "0  47227110   0.048727   0.002579    0.034662  ...      0.004124   \n",
       "1   3200520   0.019755   0.021117    0.047343  ...      0.038488   \n",
       "2   1636292   0.021246   0.009561    0.015935  ...      0.027620   \n",
       "3   1697550   0.078058   0.008584    0.203863  ...      0.014217   \n",
       "4  12005869   0.036768   0.002810    0.012412  ...      0.004294   \n",
       "\n",
       "   Unconvincing  Fascinating  Jaw-dropping  Persuasive        OK  Obnoxious  \\\n",
       "0      0.003197     0.112744      0.047299    0.114054  0.012509   0.002227   \n",
       "1      0.087875     0.044959      0.039510    0.091281  0.069142   0.044619   \n",
       "2      0.036827     0.058782      0.019122    0.081445  0.051700   0.050283   \n",
       "3      0.009657     0.035408      0.061695    0.123391  0.022800   0.009388   \n",
       "4      0.002615     0.179781      0.145824    0.099219  0.009680   0.002381   \n",
       "\n",
       "   Title_Length  Number_Question_marks   rank  \n",
       "0             4                      0  rank1  \n",
       "1             4                      0  rank3  \n",
       "2             2                      0  rank3  \n",
       "3             3                      0  rank3  \n",
       "4             6                      0  rank1  \n",
       "\n",
       "[5 rows x 24 columns]"
      ]
     },
     "execution_count": 189,
     "metadata": {},
     "output_type": "execute_result"
    }
   ],
   "source": [
    "data.head()"
   ]
  },
  {
   "cell_type": "code",
   "execution_count": 190,
   "metadata": {
    "collapsed": true
   },
   "outputs": [],
   "source": [
    "y = data['views']\n",
    "X = data.drop('views', axis=1)\n",
    "X_train, X_test, y_train, y_test = train_test_split(X, y, test_size=0.2, random_state=42)"
   ]
  },
  {
   "cell_type": "markdown",
   "metadata": {},
   "source": [
    "### Check Levels of Views in the dataset"
   ]
  },
  {
   "cell_type": "code",
   "execution_count": 191,
   "metadata": {},
   "outputs": [
    {
     "data": {
      "text/plain": [
       "rank3    1140\n",
       "rank4     822\n",
       "rank2      50\n",
       "rank1      28\n",
       "Name: rank, dtype: int64"
      ]
     },
     "execution_count": 191,
     "metadata": {},
     "output_type": "execute_result"
    }
   ],
   "source": [
    "X_train['rank'].value_counts()"
   ]
  },
  {
   "cell_type": "code",
   "execution_count": 192,
   "metadata": {},
   "outputs": [
    {
     "data": {
      "text/plain": [
       "rank3    264\n",
       "rank4    225\n",
       "rank2     15\n",
       "rank1      6\n",
       "Name: rank, dtype: int64"
      ]
     },
     "execution_count": 192,
     "metadata": {},
     "output_type": "execute_result"
    }
   ],
   "source": [
    "X_test['rank'].value_counts()"
   ]
  },
  {
   "cell_type": "code",
   "execution_count": 193,
   "metadata": {
    "collapsed": true
   },
   "outputs": [],
   "source": [
    "rank3_train, rank4_train, rank2_train, rank1_train = X_train['rank'].value_counts()\n",
    "rank3_test, rank4_test, rank2_test, rank1_test = X_test['rank'].value_counts()"
   ]
  },
  {
   "cell_type": "code",
   "execution_count": 194,
   "metadata": {},
   "outputs": [
    {
     "data": {
      "image/png": "[encoded data removed]",
      "text/plain": [
       "<matplotlib.figure.Figure at 0x2dd6fa6c550>"
      ]
     },
     "metadata": {},
     "output_type": "display_data"
    }
   ],
   "source": [
    "x = np.arange(4)\n",
    "tr_vals = [rank1_train, rank2_train, rank3_train, rank4_train] #1 is the biggest, 4 is the smallest views\n",
    "test_vals = [rank1_test, rank2_test, rank3_test, rank4_test]\n",
    "\n",
    "plt.bar(x, tr_vals,color = 'midnightblue');\n",
    "plt.xticks(x, ('>10mil', '5-10mil', '1-5mil', '>1mil'));\n",
    "plt.ylabel('Attrition');\n",
    "plt.title('Counts of Attrition Values Training Data');"
   ]
  },
  {
   "cell_type": "code",
   "execution_count": 195,
   "metadata": {},
   "outputs": [
    {
     "data": {
      "image/png": "[encoded data removed]",
      "text/plain": [
       "<matplotlib.figure.Figure at 0x2dd6fbf17f0>"
      ]
     },
     "metadata": {},
     "output_type": "display_data"
    }
   ],
   "source": [
    "plt.bar(x, test_vals,color = 'midnightblue');\n",
    "plt.xticks(x, ('>10mil', '5-10mil', '1-5mil', '>1mil'));\n",
    "plt.ylabel('Attrition');\n",
    "plt.title('Counts of Attrition Values Test Data');"
   ]
  },
  {
   "cell_type": "markdown",
   "metadata": {},
   "source": [
    "### Balance Groups of Views in the Dataset"
   ]
  },
  {
   "cell_type": "code",
   "execution_count": 196,
   "metadata": {
    "collapsed": true
   },
   "outputs": [],
   "source": [
    "y = data['rank']\n",
    "X = data.drop('rank', axis = 1)\n",
    "X_train, X_test, y_train, y_test = train_test_split(X, y, test_size=0.2, random_state=42)"
   ]
  },
  {
   "cell_type": "code",
   "execution_count": 197,
   "metadata": {},
   "outputs": [],
   "source": [
    "sm = SMOTE(random_state=0)\n",
    "X_train_res, y_train_res = sm.fit_sample(X_train, y_train)"
   ]
  },
  {
   "cell_type": "code",
   "execution_count": 198,
   "metadata": {},
   "outputs": [],
   "source": [
    "features_names = X_train.columns.values\n",
    "X_train_res_df = pd.DataFrame(X_train_res)\n",
    "X_train_res_df.columns = np.ndarray.tolist(features_names)"
   ]
  },
  {
   "cell_type": "code",
   "execution_count": 199,
   "metadata": {},
   "outputs": [
    {
     "data": {
      "text/html": [
       "<div>\n",
       "<style>\n",
       "    .dataframe thead tr:only-child th {\n",
       "        text-align: right;\n",
       "    }\n",
       "\n",
       "    .dataframe thead th {\n",
       "        text-align: left;\n",
       "    }\n",
       "\n",
       "    .dataframe tbody tr th {\n",
       "        vertical-align: top;\n",
       "    }\n",
       "</style>\n",
       "<table border=\"1\" class=\"dataframe\">\n",
       "  <thead>\n",
       "    <tr style=\"text-align: right;\">\n",
       "      <th></th>\n",
       "      <th>comments</th>\n",
       "      <th>duration</th>\n",
       "      <th>film_date</th>\n",
       "      <th>languages</th>\n",
       "      <th>num_speaker</th>\n",
       "      <th>published_date</th>\n",
       "      <th>views</th>\n",
       "      <th>Beautiful</th>\n",
       "      <th>Confusing</th>\n",
       "      <th>Courageous</th>\n",
       "      <th>...</th>\n",
       "      <th>Inspiring</th>\n",
       "      <th>Longwinded</th>\n",
       "      <th>Unconvincing</th>\n",
       "      <th>Fascinating</th>\n",
       "      <th>Jaw-dropping</th>\n",
       "      <th>Persuasive</th>\n",
       "      <th>OK</th>\n",
       "      <th>Obnoxious</th>\n",
       "      <th>Title_Length</th>\n",
       "      <th>Number_Question_marks</th>\n",
       "    </tr>\n",
       "  </thead>\n",
       "  <tbody>\n",
       "    <tr>\n",
       "      <th>0</th>\n",
       "      <td>124.0</td>\n",
       "      <td>1016.0</td>\n",
       "      <td>1.379635e+09</td>\n",
       "      <td>26.0</td>\n",
       "      <td>1.0</td>\n",
       "      <td>1.381764e+09</td>\n",
       "      <td>1041732.0</td>\n",
       "      <td>0.016507</td>\n",
       "      <td>0.007819</td>\n",
       "      <td>0.018245</td>\n",
       "      <td>...</td>\n",
       "      <td>0.211121</td>\n",
       "      <td>0.010426</td>\n",
       "      <td>0.016507</td>\n",
       "      <td>0.079930</td>\n",
       "      <td>0.013032</td>\n",
       "      <td>0.236316</td>\n",
       "      <td>0.035621</td>\n",
       "      <td>0.008688</td>\n",
       "      <td>3.0</td>\n",
       "      <td>1.0</td>\n",
       "    </tr>\n",
       "    <tr>\n",
       "      <th>1</th>\n",
       "      <td>168.0</td>\n",
       "      <td>684.0</td>\n",
       "      <td>1.330474e+09</td>\n",
       "      <td>40.0</td>\n",
       "      <td>1.0</td>\n",
       "      <td>1.333984e+09</td>\n",
       "      <td>3055565.0</td>\n",
       "      <td>0.315495</td>\n",
       "      <td>0.000532</td>\n",
       "      <td>0.046592</td>\n",
       "      <td>...</td>\n",
       "      <td>0.282748</td>\n",
       "      <td>0.003461</td>\n",
       "      <td>0.004526</td>\n",
       "      <td>0.111821</td>\n",
       "      <td>0.023695</td>\n",
       "      <td>0.008253</td>\n",
       "      <td>0.013578</td>\n",
       "      <td>0.005591</td>\n",
       "      <td>4.0</td>\n",
       "      <td>0.0</td>\n",
       "    </tr>\n",
       "    <tr>\n",
       "      <th>2</th>\n",
       "      <td>202.0</td>\n",
       "      <td>1112.0</td>\n",
       "      <td>1.340669e+09</td>\n",
       "      <td>24.0</td>\n",
       "      <td>1.0</td>\n",
       "      <td>1.348585e+09</td>\n",
       "      <td>1245095.0</td>\n",
       "      <td>0.007715</td>\n",
       "      <td>0.005935</td>\n",
       "      <td>0.027300</td>\n",
       "      <td>...</td>\n",
       "      <td>0.228487</td>\n",
       "      <td>0.007715</td>\n",
       "      <td>0.003561</td>\n",
       "      <td>0.116914</td>\n",
       "      <td>0.042136</td>\n",
       "      <td>0.207122</td>\n",
       "      <td>0.012463</td>\n",
       "      <td>0.002374</td>\n",
       "      <td>8.0</td>\n",
       "      <td>1.0</td>\n",
       "    </tr>\n",
       "    <tr>\n",
       "      <th>3</th>\n",
       "      <td>15.0</td>\n",
       "      <td>467.0</td>\n",
       "      <td>1.481587e+09</td>\n",
       "      <td>16.0</td>\n",
       "      <td>1.0</td>\n",
       "      <td>1.500649e+09</td>\n",
       "      <td>1026708.0</td>\n",
       "      <td>0.100000</td>\n",
       "      <td>0.000000</td>\n",
       "      <td>0.125926</td>\n",
       "      <td>...</td>\n",
       "      <td>0.270370</td>\n",
       "      <td>0.000000</td>\n",
       "      <td>0.000000</td>\n",
       "      <td>0.055556</td>\n",
       "      <td>0.018519</td>\n",
       "      <td>0.074074</td>\n",
       "      <td>0.011111</td>\n",
       "      <td>0.000000</td>\n",
       "      <td>6.0</td>\n",
       "      <td>0.0</td>\n",
       "    </tr>\n",
       "    <tr>\n",
       "      <th>4</th>\n",
       "      <td>59.0</td>\n",
       "      <td>915.0</td>\n",
       "      <td>1.455581e+09</td>\n",
       "      <td>29.0</td>\n",
       "      <td>1.0</td>\n",
       "      <td>1.466694e+09</td>\n",
       "      <td>4235594.0</td>\n",
       "      <td>0.053057</td>\n",
       "      <td>0.003659</td>\n",
       "      <td>0.022717</td>\n",
       "      <td>...</td>\n",
       "      <td>0.125781</td>\n",
       "      <td>0.005336</td>\n",
       "      <td>0.004879</td>\n",
       "      <td>0.187224</td>\n",
       "      <td>0.011892</td>\n",
       "      <td>0.047111</td>\n",
       "      <td>0.032627</td>\n",
       "      <td>0.002592</td>\n",
       "      <td>8.0</td>\n",
       "      <td>1.0</td>\n",
       "    </tr>\n",
       "  </tbody>\n",
       "</table>\n",
       "<p>5 rows × 23 columns</p>\n",
       "</div>"
      ],
      "text/plain": [
       "   comments  duration     film_date  languages  num_speaker  published_date  \\\n",
       "0     124.0    1016.0  1.379635e+09       26.0          1.0    1.381764e+09   \n",
       "1     168.0     684.0  1.330474e+09       40.0          1.0    1.333984e+09   \n",
       "2     202.0    1112.0  1.340669e+09       24.0          1.0    1.348585e+09   \n",
       "3      15.0     467.0  1.481587e+09       16.0          1.0    1.500649e+09   \n",
       "4      59.0     915.0  1.455581e+09       29.0          1.0    1.466694e+09   \n",
       "\n",
       "       views  Beautiful  Confusing  Courageous          ...            \\\n",
       "0  1041732.0   0.016507   0.007819    0.018245          ...             \n",
       "1  3055565.0   0.315495   0.000532    0.046592          ...             \n",
       "2  1245095.0   0.007715   0.005935    0.027300          ...             \n",
       "3  1026708.0   0.100000   0.000000    0.125926          ...             \n",
       "4  4235594.0   0.053057   0.003659    0.022717          ...             \n",
       "\n",
       "   Inspiring  Longwinded  Unconvincing  Fascinating  Jaw-dropping  Persuasive  \\\n",
       "0   0.211121    0.010426      0.016507     0.079930      0.013032    0.236316   \n",
       "1   0.282748    0.003461      0.004526     0.111821      0.023695    0.008253   \n",
       "2   0.228487    0.007715      0.003561     0.116914      0.042136    0.207122   \n",
       "3   0.270370    0.000000      0.000000     0.055556      0.018519    0.074074   \n",
       "4   0.125781    0.005336      0.004879     0.187224      0.011892    0.047111   \n",
       "\n",
       "         OK  Obnoxious  Title_Length  Number_Question_marks  \n",
       "0  0.035621   0.008688           3.0                    1.0  \n",
       "1  0.013578   0.005591           4.0                    0.0  \n",
       "2  0.012463   0.002374           8.0                    1.0  \n",
       "3  0.011111   0.000000           6.0                    0.0  \n",
       "4  0.032627   0.002592           8.0                    1.0  \n",
       "\n",
       "[5 rows x 23 columns]"
      ]
     },
     "execution_count": 199,
     "metadata": {},
     "output_type": "execute_result"
    }
   ],
   "source": [
    "X_train_res_df.head()"
   ]
  },
  {
   "cell_type": "code",
   "execution_count": 200,
   "metadata": {},
   "outputs": [],
   "source": [
    "rank1 = np.count_nonzero(y_train_res =='rank1')\n",
    "rank2 = np.count_nonzero(y_train_res =='rank2')\n",
    "rank3 = np.count_nonzero(y_train_res=='rank3')\n",
    "rank4 = np.count_nonzero(y_train_res=='rank4')"
   ]
  },
  {
   "cell_type": "code",
   "execution_count": 201,
   "metadata": {},
   "outputs": [
    {
     "data": {
      "image/png": "[encoded data removed]",
      "text/plain": [
       "<matplotlib.figure.Figure at 0x2dd701b83c8>"
      ]
     },
     "metadata": {},
     "output_type": "display_data"
    }
   ],
   "source": [
    "x = np.arange(4)\n",
    "tr_vals = [rank1, rank2, rank3, rank4] #1 is the biggest, 4 is the smallest views\n",
    "\n",
    "plt.bar(x, tr_vals,color = 'midnightblue');\n",
    "plt.xticks(x, ('>10mil', '5-10mil', '1-5mil', '>1mil'));\n",
    "plt.ylabel('Attrition');\n",
    "plt.title('Counts of Attrition Values Training Data After SMOTE');"
   ]
  },
  {
   "cell_type": "code",
   "execution_count": 202,
   "metadata": {},
   "outputs": [],
   "source": [
    "#save as a csv\n",
    "np.savetxt('SMOTE_dataset.csv', X_train_res_df, delimiter=\",\")\n",
    "np.savetxt('SMOTE_test_data.csv', X_test, delimiter=',')"
   ]
  },
  {
   "cell_type": "markdown",
   "metadata": {},
   "source": [
    "## Back to Random Forest"
   ]
  },
  {
   "cell_type": "code",
   "execution_count": 203,
   "metadata": {
    "collapsed": true
   },
   "outputs": [],
   "source": [
    "y_train = X_train_res_df['views']\n",
    "X_train = X_train_res_df.drop('views', axis=1)\n",
    "y_test = X_test['views']\n",
    "X_test = X_test.drop('views', axis=1)"
   ]
  },
  {
   "cell_type": "markdown",
   "metadata": {},
   "source": [
    "There is now a problem with using gridsearch- when we do k-fold cross validation we need to have the training sets be oversampled and the validation sets not be oversampled- with gridsearch we have all folds that are oversampled..."
   ]
  },
  {
   "cell_type": "markdown",
   "metadata": {},
   "source": [
    "### Cross Validation for the RF Parameters"
   ]
  },
  {
   "cell_type": "code",
   "execution_count": 229,
   "metadata": {
    "collapsed": true
   },
   "outputs": [],
   "source": [
    "y = data['rank']\n",
    "X = data.drop('rank', axis=1)\n",
    "X_train_cv, X_test_cv, y_train_cv, y_test_cv = train_test_split(X, y, test_size=0.2, random_state=42)\n",
    "#piece together X_train and y_train to one training set, then use this for the CV\n",
    "y_train_cv = y_train_cv.to_frame()\n",
    "CV_data = pd.merge(X_train_cv, y_train_cv, left_index=True, right_index=True, how = 'left')"
   ]
  },
  {
   "cell_type": "code",
   "execution_count": 230,
   "metadata": {},
   "outputs": [
    {
     "name": "stdout",
     "output_type": "stream",
     "text": [
      "model with 50 trees and 7 depth has MSE of 5681765691202.119\n",
      "model with 50 trees and 10 depth has MSE of 5434207004631.191\n",
      "model with 50 trees and 13 depth has MSE of 5339590480187.852\n",
      "model with 50 trees and 15 depth has MSE of 5505430431307.459\n",
      "model with 100 trees and 7 depth has MSE of 5779989700428.749\n",
      "model with 100 trees and 10 depth has MSE of 5438013127987.04\n",
      "model with 100 trees and 13 depth has MSE of 5422868033401.497\n",
      "model with 100 trees and 15 depth has MSE of 5493646122003.906\n",
      "model with 200 trees and 7 depth has MSE of 6010887569082.1045\n",
      "model with 200 trees and 10 depth has MSE of 5619099274328.853\n",
      "model with 200 trees and 13 depth has MSE of 5621321396525.034\n",
      "model with 200 trees and 15 depth has MSE of 5636188392858.37\n"
     ]
    }
   ],
   "source": [
    "indices = [1,2,3,4,5]\n",
    "dfList = np.array_split(CV_data, 5)\n",
    "CVgrid = []\n",
    "n_estimators = [50, 100, 200]; max_depth = [7,10,13,15]\n",
    "c = list(product(n_estimators, max_depth))\n",
    "\n",
    "for choices in c:\n",
    "    for combo in combinations(indices, 4):\n",
    "        #append and then oversample\n",
    "        comb_folds = pd.concat([dfList[combo[0]-1], dfList[combo[1]-1], \n",
    "                                dfList[combo[2]-1], dfList[combo[3]-1]])\n",
    "        remain_ind = 15 - sum(combo) #isolate the remaining index \n",
    "        remain = dfList[remain_ind-1].drop('rank', axis=1)\n",
    "        \n",
    "        #oversample the comb_folds\n",
    "        y = comb_folds['rank']\n",
    "        X = comb_folds.drop('rank', axis = 1)\n",
    "        sm = SMOTE(random_state=0)\n",
    "        X_res, y_res = sm.fit_sample(X, y)\n",
    "        features_names = X.columns.values\n",
    "        X_res_df = pd.DataFrame(X_res)\n",
    "        X_res_df.columns = np.ndarray.tolist(features_names)\n",
    "\n",
    "        #split into the correct X and y\n",
    "        y_train_correct = X_res_df['views']\n",
    "        X_train_correct = X_res_df.drop('views', axis=1)\n",
    "        y_test_correct = remain['views']\n",
    "        X_test_correct = remain.drop('views', axis=1)\n",
    "    \n",
    "        mse = []\n",
    "        #choices[0] is the n_estimators, choices[1] is max_depth\n",
    "        regr = RandomForestRegressor(n_estimators=choices[0], max_depth=choices[1], random_state=42)\n",
    "        regr.fit(X_train_correct, y_train_correct)\n",
    "        y_pred = regr.predict(X_test_correct)\n",
    "        MSE = mean_squared_error(y_test_correct, y_pred)\n",
    "        mse.append(MSE)\n",
    "      \n",
    "    mse_info = {}\n",
    "    avg_mse = sum(mse)/len(mse)\n",
    "    mse_info['MSE'] = avg_mse\n",
    "    mse_info['N_trees'] = choices[0]\n",
    "    mse_info['Max_depth'] = choices[1]\n",
    "    print('model with %s trees and %s depth has MSE of %s' %(choices[0], choices[1], avg_mse))\n",
    "    CVgrid.append(mse_info)"
   ]
  },
  {
   "cell_type": "code",
   "execution_count": 231,
   "metadata": {},
   "outputs": [
    {
     "data": {
      "text/plain": [
       "[{'MSE': 5681765691202.119, 'Max_depth': 7, 'N_trees': 50},\n",
       " {'MSE': 5434207004631.191, 'Max_depth': 10, 'N_trees': 50},\n",
       " {'MSE': 5339590480187.852, 'Max_depth': 13, 'N_trees': 50},\n",
       " {'MSE': 5505430431307.459, 'Max_depth': 15, 'N_trees': 50},\n",
       " {'MSE': 5779989700428.749, 'Max_depth': 7, 'N_trees': 100},\n",
       " {'MSE': 5438013127987.04, 'Max_depth': 10, 'N_trees': 100},\n",
       " {'MSE': 5422868033401.497, 'Max_depth': 13, 'N_trees': 100},\n",
       " {'MSE': 5493646122003.906, 'Max_depth': 15, 'N_trees': 100},\n",
       " {'MSE': 6010887569082.1045, 'Max_depth': 7, 'N_trees': 200},\n",
       " {'MSE': 5619099274328.853, 'Max_depth': 10, 'N_trees': 200},\n",
       " {'MSE': 5621321396525.034, 'Max_depth': 13, 'N_trees': 200},\n",
       " {'MSE': 5636188392858.37, 'Max_depth': 15, 'N_trees': 200}]"
      ]
     },
     "execution_count": 231,
     "metadata": {},
     "output_type": "execute_result"
    }
   ],
   "source": [
    "#make into a dataframe and get the best parameters\n",
    "#need to make it a list of dictionaries instead\n",
    "CVgrid"
   ]
  },
  {
   "cell_type": "code",
   "execution_count": 232,
   "metadata": {},
   "outputs": [
    {
     "data": {
      "text/html": [
       "<div>\n",
       "<style>\n",
       "    .dataframe thead tr:only-child th {\n",
       "        text-align: right;\n",
       "    }\n",
       "\n",
       "    .dataframe thead th {\n",
       "        text-align: left;\n",
       "    }\n",
       "\n",
       "    .dataframe tbody tr th {\n",
       "        vertical-align: top;\n",
       "    }\n",
       "</style>\n",
       "<table border=\"1\" class=\"dataframe\">\n",
       "  <thead>\n",
       "    <tr style=\"text-align: right;\">\n",
       "      <th></th>\n",
       "      <th>MSE</th>\n",
       "      <th>Max_depth</th>\n",
       "      <th>N_trees</th>\n",
       "    </tr>\n",
       "  </thead>\n",
       "  <tbody>\n",
       "    <tr>\n",
       "      <th>0</th>\n",
       "      <td>5.681766e+12</td>\n",
       "      <td>7</td>\n",
       "      <td>50</td>\n",
       "    </tr>\n",
       "    <tr>\n",
       "      <th>1</th>\n",
       "      <td>5.434207e+12</td>\n",
       "      <td>10</td>\n",
       "      <td>50</td>\n",
       "    </tr>\n",
       "    <tr>\n",
       "      <th>2</th>\n",
       "      <td>5.339590e+12</td>\n",
       "      <td>13</td>\n",
       "      <td>50</td>\n",
       "    </tr>\n",
       "    <tr>\n",
       "      <th>3</th>\n",
       "      <td>5.505430e+12</td>\n",
       "      <td>15</td>\n",
       "      <td>50</td>\n",
       "    </tr>\n",
       "    <tr>\n",
       "      <th>4</th>\n",
       "      <td>5.779990e+12</td>\n",
       "      <td>7</td>\n",
       "      <td>100</td>\n",
       "    </tr>\n",
       "  </tbody>\n",
       "</table>\n",
       "</div>"
      ],
      "text/plain": [
       "            MSE  Max_depth  N_trees\n",
       "0  5.681766e+12          7       50\n",
       "1  5.434207e+12         10       50\n",
       "2  5.339590e+12         13       50\n",
       "3  5.505430e+12         15       50\n",
       "4  5.779990e+12          7      100"
      ]
     },
     "execution_count": 232,
     "metadata": {},
     "output_type": "execute_result"
    }
   ],
   "source": [
    "CVresults = pd.DataFrame(CVgrid)\n",
    "CVresults.head()"
   ]
  },
  {
   "cell_type": "code",
   "execution_count": 233,
   "metadata": {},
   "outputs": [
    {
     "data": {
      "text/html": [
       "<div>\n",
       "<style>\n",
       "    .dataframe thead tr:only-child th {\n",
       "        text-align: right;\n",
       "    }\n",
       "\n",
       "    .dataframe thead th {\n",
       "        text-align: left;\n",
       "    }\n",
       "\n",
       "    .dataframe tbody tr th {\n",
       "        vertical-align: top;\n",
       "    }\n",
       "</style>\n",
       "<table border=\"1\" class=\"dataframe\">\n",
       "  <thead>\n",
       "    <tr style=\"text-align: right;\">\n",
       "      <th></th>\n",
       "      <th>MSE</th>\n",
       "      <th>Max_depth</th>\n",
       "      <th>N_trees</th>\n",
       "    </tr>\n",
       "  </thead>\n",
       "  <tbody>\n",
       "    <tr>\n",
       "      <th>2</th>\n",
       "      <td>5.339590e+12</td>\n",
       "      <td>13</td>\n",
       "      <td>50</td>\n",
       "    </tr>\n",
       "  </tbody>\n",
       "</table>\n",
       "</div>"
      ],
      "text/plain": [
       "            MSE  Max_depth  N_trees\n",
       "2  5.339590e+12         13       50"
      ]
     },
     "execution_count": 233,
     "metadata": {},
     "output_type": "execute_result"
    }
   ],
   "source": [
    "#find the minimum MSE\n",
    "CVresults.loc[CVresults['MSE'] == CVresults['MSE'].min()]"
   ]
  },
  {
   "cell_type": "code",
   "execution_count": 209,
   "metadata": {},
   "outputs": [
    {
     "data": {
      "text/plain": [
       "RandomForestRegressor(bootstrap=True, criterion='mse', max_depth=13,\n",
       "           max_features='auto', max_leaf_nodes=None,\n",
       "           min_impurity_decrease=0.0, min_impurity_split=None,\n",
       "           min_samples_leaf=1, min_samples_split=2,\n",
       "           min_weight_fraction_leaf=0.0, n_estimators=50, n_jobs=1,\n",
       "           oob_score=False, random_state=42, verbose=0, warm_start=False)"
      ]
     },
     "execution_count": 209,
     "metadata": {},
     "output_type": "execute_result"
    }
   ],
   "source": [
    "regr = RandomForestRegressor(n_estimators=50, max_depth=13, random_state=42)\n",
    "regr.fit(X_train, y_train)"
   ]
  },
  {
   "cell_type": "code",
   "execution_count": 212,
   "metadata": {},
   "outputs": [
    {
     "data": {
      "text/plain": [
       "(4560, 22)"
      ]
     },
     "execution_count": 212,
     "metadata": {},
     "output_type": "execute_result"
    }
   ],
   "source": [
    "X_train.shape"
   ]
  },
  {
   "cell_type": "code",
   "execution_count": 214,
   "metadata": {},
   "outputs": [
    {
     "data": {
      "text/plain": [
       "(510, 22)"
      ]
     },
     "execution_count": 214,
     "metadata": {},
     "output_type": "execute_result"
    }
   ],
   "source": [
    "X_test.shape"
   ]
  },
  {
   "cell_type": "code",
   "execution_count": 215,
   "metadata": {},
   "outputs": [
    {
     "data": {
      "text/plain": [
       "(510,)"
      ]
     },
     "execution_count": 215,
     "metadata": {},
     "output_type": "execute_result"
    }
   ],
   "source": [
    "y_test.shape"
   ]
  },
  {
   "cell_type": "code",
   "execution_count": 217,
   "metadata": {},
   "outputs": [
    {
     "name": "stdout",
     "output_type": "stream",
     "text": [
      "22\n"
     ]
    },
    {
     "data": {
      "image/png": "[encoded data removed]",
      "text/plain": [
       "<matplotlib.figure.Figure at 0x2dd6fb21c18>"
      ]
     },
     "metadata": {},
     "output_type": "display_data"
    }
   ],
   "source": [
    "labels = X_train.columns\n",
    "x_axis = np.arange(22)\n",
    "impo = regr.feature_importances_\n",
    "\n",
    "plt.bar(x_axis, impo, align='center', color='midnightblue');\n",
    "plt.xticks(x_axis, labels, rotation='vertical');\n",
    "plt.title('Feature Importances RF');\n",
    "print(regr.n_features_)"
   ]
  },
  {
   "cell_type": "code",
   "execution_count": 218,
   "metadata": {
    "collapsed": true
   },
   "outputs": [],
   "source": [
    "y_pred = regr.predict(X_test)\n",
    "mse_random_forest_all = mean_squared_error(y_test, y_pred)"
   ]
  },
  {
   "cell_type": "code",
   "execution_count": 221,
   "metadata": {
    "scrolled": true
   },
   "outputs": [
    {
     "data": {
      "image/png": "[encoded data removed]",
      "text/plain": [
       "<matplotlib.figure.Figure at 0x2dd772933c8>"
      ]
     },
     "metadata": {},
     "output_type": "display_data"
    }
   ],
   "source": [
    "plt.figure(figsize=(20,10))\n",
    "plt.rcParams.update({'font.size': 18})\n",
    "# Set up a 2x2 grid so we can look at 4 plots at once\n",
    "plt.subplot(2, 2, 1)\n",
    "\n",
    "plt.scatter(X_train['comments'], y_train);\n",
    "plt.scatter(X_test['comments'], y_pred);\n",
    "plt.xlabel('# Comments');\n",
    "plt.ylabel('# Views');\n",
    "\n",
    "plt.subplot(2, 2, 2)\n",
    "plt.scatter(X_train['languages'], y_train);\n",
    "plt.scatter(X_test['languages'], y_pred);\n",
    "plt.xlabel('# Languages');\n",
    "plt.ylabel('# Views');\n",
    "\n",
    "plt.subplot(2, 2, 3)\n",
    "plt.scatter(X_train['published_date'], y_train);\n",
    "plt.scatter(X_test['published_date'], y_pred);\n",
    "plt.xlabel('Unix Date Published');\n",
    "plt.ylabel('# Views');\n",
    "\n",
    "plt.subplot(2, 2, 4)\n",
    "plt.scatter(X_train['Funny'], y_train);\n",
    "plt.scatter(X_test['Funny'], y_pred);\n",
    "plt.xlabel('Funny');\n",
    "plt.ylabel('# Views');"
   ]
  },
  {
   "cell_type": "code",
   "execution_count": 226,
   "metadata": {},
   "outputs": [
    {
     "data": {
      "text/plain": [
       "3538995293458.7183"
      ]
     },
     "execution_count": 226,
     "metadata": {},
     "output_type": "execute_result"
    }
   ],
   "source": [
    "mse_random_forest_all"
   ]
  },
  {
   "cell_type": "code",
   "execution_count": 227,
   "metadata": {
    "collapsed": true
   },
   "outputs": [],
   "source": [
    "mse_before_oversample = 2103119145192.1746\n",
    "#taken from previous notebook"
   ]
  },
  {
   "cell_type": "code",
   "execution_count": 228,
   "metadata": {},
   "outputs": [
    {
     "data": {
      "image/png": "[encoded data removed]",
      "text/plain": [
       "<matplotlib.figure.Figure at 0x2dd77677e48>"
      ]
     },
     "metadata": {},
     "output_type": "display_data"
    }
   ],
   "source": [
    "#compare with graph\n",
    "x_axis = [1,2]\n",
    "MSE = [mse_before_oversample, mse_random_forest_all]\n",
    "LABELS = ['Before Oversampling', 'After Oversampling']\n",
    "\n",
    "plt.bar(x_axis, MSE, align='center', color = 'midnightblue');\n",
    "plt.xticks(x_axis, LABELS);\n",
    "plt.title('MSE of Various Models');\n",
    "plt.xlabel('Random Forest Model');\n",
    "plt.ylabel('MSE');"
   ]
  }
 ],
 "metadata": {
  "kernelspec": {
   "display_name": "Python 3",
   "language": "python",
   "name": "python3"
  },
  "language_info": {
   "codemirror_mode": {
    "name": "ipython",
    "version": 3
   },
   "file_extension": ".py",
   "mimetype": "text/x-python",
   "name": "python",
   "nbconvert_exporter": "python",
   "pygments_lexer": "ipython3",
   "version": "3.6.1"
  }
 },
 "nbformat": 4,
 "nbformat_minor": 2
}
